{
  "nbformat": 4,
  "nbformat_minor": 0,
  "metadata": {
    "colab": {
      "provenance": []
    },
    "kernelspec": {
      "name": "python3",
      "display_name": "Python 3"
    },
    "language_info": {
      "name": "python"
    }
  },
  "cells": [
    {
      "cell_type": "markdown",
      "source": [
        "## Part I: Tensorflow"
      ],
      "metadata": {
        "id": "aeUxza2N8Xnt"
      }
    },
    {
      "cell_type": "code",
      "execution_count": null,
      "metadata": {
        "id": "Fvnyhv5GTSrp"
      },
      "outputs": [],
      "source": [
        "import os\n",
        "import tensorflow as tf\n",
        "import numpy as np\n",
        "import math\n",
        "import timeit\n",
        "import matplotlib.pyplot as plt\n",
        "\n",
        "%matplotlib inline"
      ]
    },
    {
      "cell_type": "code",
      "source": [
        "def load_cifar10(num_training=49000, num_validation=1000, num_test=10000):\n",
        "    \"\"\"\n",
        "    Fetch the CIFAR-10 dataset from the web and perform preprocessing to prepare\n",
        "    it for the two-layer neural net classifier.\n",
        "    \"\"\"\n",
        "    # Load the raw CIFAR-10 dataset and use appropriate data types and shapes\n",
        "    cifar10 = tf.keras.datasets.cifar10.load_data()\n",
        "    (X_train, y_train), (X_test, y_test) = cifar10\n",
        "    X_train = np.asarray(X_train, dtype=np.float32)\n",
        "    y_train = np.asarray(y_train, dtype=np.int32).flatten()\n",
        "    X_test = np.asarray(X_test, dtype=np.float32)\n",
        "    y_test = np.asarray(y_test, dtype=np.int32).flatten()\n",
        "\n",
        "    # Subsample the data\n",
        "    mask = range(num_training, num_training + num_validation)\n",
        "    X_val = X_train[mask]\n",
        "    y_val = y_train[mask]\n",
        "    mask = range(num_training)\n",
        "    X_train = X_train[mask]\n",
        "    y_train = y_train[mask]\n",
        "    mask = range(num_test)\n",
        "    X_test = X_test[mask]\n",
        "    y_test = y_test[mask]\n",
        "\n",
        "    # Normalize the data: subtract the mean pixel and divide by std\n",
        "    mean_pixel = X_train.mean(axis=(0, 1, 2), keepdims=True)\n",
        "    std_pixel = X_train.std(axis=(0, 1, 2), keepdims=True)\n",
        "    X_train = (X_train - mean_pixel) / std_pixel\n",
        "    X_val = (X_val - mean_pixel) / std_pixel\n",
        "    X_test = (X_test - mean_pixel) / std_pixel\n",
        "\n",
        "    return X_train, y_train, X_val, y_val, X_test, y_test\n",
        "\n",
        "# If there are errors with SSL downloading involving self-signed certificates,\n",
        "# it may be that your Python version was recently installed on the current machine.\n",
        "# See: https://github.com/tensorflow/tensorflow/issues/10779\n",
        "# To fix, run the command: /Applications/Python\\ 3.7/Install\\ Certificates.command\n",
        "#   ...replacing paths as necessary.\n",
        "\n",
        "# Invoke the above function to get our data.\n",
        "NHW = (0, 1, 2)\n",
        "X_train, y_train, X_val, y_val, X_test, y_test = load_cifar10()\n",
        "print('Train data shape: ', X_train.shape)\n",
        "print('Train labels shape: ', y_train.shape, y_train.dtype)\n",
        "print('Validation data shape: ', X_val.shape)\n",
        "print('Validation labels shape: ', y_val.shape)\n",
        "print('Test data shape: ', X_test.shape)\n",
        "print('Test labels shape: ', y_test.shape)"
      ],
      "metadata": {
        "id": "1mC8tpK9TlwJ",
        "colab": {
          "base_uri": "https://localhost:8080/"
        },
        "outputId": "3d198b82-8a51-4d18-fb30-2855d24b4225"
      },
      "execution_count": null,
      "outputs": [
        {
          "output_type": "stream",
          "name": "stdout",
          "text": [
            "Downloading data from https://www.cs.toronto.edu/~kriz/cifar-10-python.tar.gz\n",
            "170498071/170498071 [==============================] - 2s 0us/step\n",
            "Train data shape:  (49000, 32, 32, 3)\n",
            "Train labels shape:  (49000,) int32\n",
            "Validation data shape:  (1000, 32, 32, 3)\n",
            "Validation labels shape:  (1000,)\n",
            "Test data shape:  (10000, 32, 32, 3)\n",
            "Test labels shape:  (10000,)\n"
          ]
        }
      ]
    },
    {
      "cell_type": "code",
      "source": [
        "class Dataset(object):\n",
        "    def __init__(self, X, y, batch_size, shuffle=False):\n",
        "        \"\"\"\n",
        "        Construct a Dataset object to iterate over data X and labels y\n",
        "\n",
        "        Inputs:\n",
        "        - X: Numpy array of data, of any shape\n",
        "        - y: Numpy array of labels, of any shape but with y.shape[0] == X.shape[0]\n",
        "        - batch_size: Integer giving number of elements per minibatch\n",
        "        - shuffle: (optional) Boolean, whether to shuffle the data on each epoch\n",
        "        \"\"\"\n",
        "        assert X.shape[0] == y.shape[0], 'Got different numbers of data and labels'\n",
        "        self.X, self.y = X, y\n",
        "        self.batch_size, self.shuffle = batch_size, shuffle\n",
        "\n",
        "    def __iter__(self):\n",
        "        N, B = self.X.shape[0], self.batch_size\n",
        "        idxs = np.arange(N)\n",
        "        if self.shuffle:\n",
        "            np.random.shuffle(idxs)\n",
        "        return iter((self.X[i:i+B], self.y[i:i+B]) for i in range(0, N, B))\n",
        "\n",
        "\n",
        "train_dset = Dataset(X_train, y_train, batch_size=64, shuffle=True)\n",
        "val_dset = Dataset(X_val, y_val, batch_size=64, shuffle=False)\n",
        "test_dset = Dataset(X_test, y_test, batch_size=64)"
      ],
      "metadata": {
        "id": "t-lUuwKN8nmH"
      },
      "execution_count": null,
      "outputs": []
    },
    {
      "cell_type": "code",
      "source": [
        "# We can iterate through a dataset like this:\n",
        "for t, (x, y) in enumerate(train_dset):\n",
        "    print(t, x.shape, y.shape)\n",
        "    if t > 5: break"
      ],
      "metadata": {
        "id": "DV7ItgqZ8nyW",
        "colab": {
          "base_uri": "https://localhost:8080/"
        },
        "outputId": "52d3b3bc-2706-47b0-d6e9-7a1e943e6ac6"
      },
      "execution_count": null,
      "outputs": [
        {
          "output_type": "stream",
          "name": "stdout",
          "text": [
            "0 (64, 32, 32, 3) (64,)\n",
            "1 (64, 32, 32, 3) (64,)\n",
            "2 (64, 32, 32, 3) (64,)\n",
            "3 (64, 32, 32, 3) (64,)\n",
            "4 (64, 32, 32, 3) (64,)\n",
            "5 (64, 32, 32, 3) (64,)\n",
            "6 (64, 32, 32, 3) (64,)\n"
          ]
        }
      ]
    },
    {
      "cell_type": "code",
      "source": [
        "# Set up some global variables\n",
        "USE_GPU = False\n",
        "\n",
        "if USE_GPU:\n",
        "    device = '/device:GPU:0'\n",
        "else:\n",
        "    device = '/cpu:0'\n",
        "\n",
        "# Constant to control how often we print when training models\n",
        "print_every = 100\n",
        "\n",
        "print('Using device: ', device)"
      ],
      "metadata": {
        "id": "zRL6OeSn8n78",
        "colab": {
          "base_uri": "https://localhost:8080/"
        },
        "outputId": "c878dfeb-3646-4b28-e969-d314a560a7d3"
      },
      "execution_count": null,
      "outputs": [
        {
          "output_type": "stream",
          "name": "stdout",
          "text": [
            "Using device:  /cpu:0\n"
          ]
        }
      ]
    },
    {
      "cell_type": "code",
      "source": [
        "## Helper Functions\n",
        "def flatten(x):\n",
        "    \"\"\"\n",
        "    Input:\n",
        "    - TensorFlow Tensor of shape (N, D1, ..., DM)\n",
        "\n",
        "    Output:\n",
        "    - TensorFlow Tensor of shape (N, D1 * ... * DM)\n",
        "    \"\"\"\n",
        "    N = tf.shape(x)[0]\n",
        "    return tf.reshape(x, (N, -1))\n",
        "\n",
        "def test_flatten():\n",
        "    # Construct concrete values of the input data x using numpy\n",
        "    x_np = np.arange(24).reshape((2, 3, 4))\n",
        "    print('x_np:\\n', x_np, '\\n')\n",
        "    # Compute a concrete output value.\n",
        "    x_flat_np = flatten(x_np)\n",
        "    print('x_flat_np:\\n', x_flat_np, '\\n')\n",
        "\n",
        "test_flatten()"
      ],
      "metadata": {
        "id": "uPMJoHoZ9H7L",
        "colab": {
          "base_uri": "https://localhost:8080/"
        },
        "outputId": "c1d1c3e2-8a31-47a9-e96d-4e85cb535b35"
      },
      "execution_count": null,
      "outputs": [
        {
          "output_type": "stream",
          "name": "stdout",
          "text": [
            "x_np:\n",
            " [[[ 0  1  2  3]\n",
            "  [ 4  5  6  7]\n",
            "  [ 8  9 10 11]]\n",
            "\n",
            " [[12 13 14 15]\n",
            "  [16 17 18 19]\n",
            "  [20 21 22 23]]] \n",
            "\n",
            "x_flat_np:\n",
            " tf.Tensor(\n",
            "[[ 0  1  2  3  4  5  6  7  8  9 10 11]\n",
            " [12 13 14 15 16 17 18 19 20 21 22 23]], shape=(2, 12), dtype=int64) \n",
            "\n"
          ]
        }
      ]
    },
    {
      "cell_type": "markdown",
      "source": [
        "### Define a TwoLayer Network\n",
        "\n",
        "We will now implement our first neural network with TensorFlow: a fully-connected ReLU network with two hidden layers and no biases on the CIFAR10 dataset. For now we will use only low-level TensorFlow operators to define the network; later we will see how to use the higher-level abstractions provided by tf.keras to simplify the process.\n",
        "\n",
        "We will define the forward pass of the network in the function TwoLayerFCNeuralNetwork; this will accept TensorFlow Tensors for the inputs and weights of the network, and return a TensorFlow Tensor for the scores.\n",
        "\n",
        "After defining the network architecture in the TwoLayerFCNeuralNetwork function, we will test the implementation by checking the shape of the output.\n",
        "\n",
        "It's important that you read and understand this implementation."
      ],
      "metadata": {
        "id": "ba4VIHRD_0GT"
      }
    },
    {
      "cell_type": "code",
      "source": [
        "def TwoLayerFCNeuralNetwork(x, params):\n",
        "    \"\"\"\n",
        "    A fully-connected neural network; the architecture is:\n",
        "    fully-connected layer -> ReLU -> fully connected layer.\n",
        "    Note that we only need to define the forward pass here; TensorFlow will take\n",
        "    care of computing the gradients for us.\n",
        "\n",
        "    The input to the network will be a minibatch of data, of shape\n",
        "    (N, d1, ..., dM) where d1 * ... * dM = D. The hidden layer will have H units,\n",
        "    and the output layer will produce scores for C classes.\n",
        "\n",
        "    Inputs:\n",
        "    - x: A TensorFlow Tensor of shape (N, d1, ..., dM) giving a minibatch of\n",
        "      input data.\n",
        "    - params: A list [w1, w2] of TensorFlow Tensors giving weights for the\n",
        "      network, where w1 has shape (D, H) and w2 has shape (H, C).\n",
        "\n",
        "    Returns:\n",
        "    - scores: A TensorFlow Tensor of shape (N, C) giving classification scores\n",
        "      for the input data x.\n",
        "    \"\"\"\n",
        "    w1, w2 = params                   # Unpack the parameters\n",
        "    x = flatten(x)                    # Flatten the input; now x has shape (N, D)\n",
        "    h = tf.nn.relu(tf.matmul(x, w1))  # Hidden layer: h has shape (N, H)\n",
        "    scores = tf.matmul(h, w2)         # Compute scores of shape (N, C)\n",
        "    return scores"
      ],
      "metadata": {
        "id": "M8QkMU5i9IKW"
      },
      "execution_count": null,
      "outputs": []
    },
    {
      "cell_type": "code",
      "source": [
        "def TwoLayerFCNeuralNetwork_test():\n",
        "    hidden_layer_size = 42\n",
        "\n",
        "    # Scoping our TF operations under a tf.device context manager\n",
        "    # lets us tell TensorFlow where we want these Tensors to be\n",
        "    # multiplied and/or operated on, e.g. on a CPU or a GPU.\n",
        "    with tf.device(device):\n",
        "        x = tf.zeros((64, 32, 32, 3))\n",
        "        w1 = tf.zeros((32 * 32 * 3, hidden_layer_size))\n",
        "        w2 = tf.zeros((hidden_layer_size, 10))\n",
        "\n",
        "        # Call our TwoLayerFCNeuralNetwork function for the forward pass of the network.\n",
        "        scores = TwoLayerFCNeuralNetwork(x, [w1, w2])\n",
        "\n",
        "    print(scores.shape)\n",
        "\n",
        "TwoLayerFCNeuralNetwork_test()"
      ],
      "metadata": {
        "id": "DnELPAAVACU5",
        "colab": {
          "base_uri": "https://localhost:8080/"
        },
        "outputId": "43aa07e8-acac-495c-ce91-4344c23b9ca4"
      },
      "execution_count": null,
      "outputs": [
        {
          "output_type": "stream",
          "name": "stdout",
          "text": [
            "(64, 10)\n"
          ]
        }
      ]
    },
    {
      "cell_type": "markdown",
      "source": [
        "## Three-Layer ConvNet\n",
        "Here you will complete the implementation of the function ThreeLayerConvNet which will perform the forward pass of a three-layer convolutional network. The network should have the following architecture:\n",
        "\n",
        "A convolutional layer (with bias) with channel_1 filters, each with shape KW1 x KH1, and zero-padding of two\n",
        "ReLU nonlinearity\n",
        "A convolutional layer (with bias) with channel_2 filters, each with shape KW2 x KH2, and zero-padding of one\n",
        "ReLU nonlinearity\n",
        "Fully-connected layer with bias, producing scores for C classes.\n",
        "\n",
        "HINT: For convolutions: https://www.tensorflow.org/versions/r2.0/api_docs/python/tf/nn/conv2d; be careful with padding!\n",
        "\n",
        "HINT: For biases: https://www.tensorflow.org/performance/xla/broadcasting"
      ],
      "metadata": {
        "id": "9iG28KKSAPWl"
      }
    },
    {
      "cell_type": "code",
      "source": [
        "def ThreeLayerConvNet(x, params):\n",
        "    \"\"\"\n",
        "    A three-layer convolutional network with the architecture described above.\n",
        "\n",
        "    Inputs:\n",
        "    - x: A TensorFlow Tensor of shape (N, H, W, 3) giving a minibatch of images\n",
        "    - params: A list of TensorFlow Tensors giving the weights and biases for the\n",
        "      network; should contain the following:\n",
        "      - conv_w1: TensorFlow Tensor of shape (KH1, KW1, 3, channel_1) giving\n",
        "        weights for the first convolutional layer.\n",
        "      - conv_b1: TensorFlow Tensor of shape (channel_1,) giving biases for the\n",
        "        first convolutional layer.\n",
        "      - conv_w2: TensorFlow Tensor of shape (KH2, KW2, channel_1, channel_2)\n",
        "        giving weights for the second convolutional layer\n",
        "      - conv_b2: TensorFlow Tensor of shape (channel_2,) giving biases for the\n",
        "        second convolutional layer.\n",
        "      - fc_w: TensorFlow Tensor giving weights for the fully-connected layer.\n",
        "        Can you figure out what the shape should be?\n",
        "      - fc_b: TensorFlow Tensor giving biases for the fully-connected layer.\n",
        "        Can you figure out what the shape should be?\n",
        "    \"\"\"\n",
        "    conv_w1, conv_b1, conv_w2, conv_b2, fc_w, fc_b = params\n",
        "    scores = None\n",
        "    ############################################################################\n",
        "    # TODO: Implement the forward pass for the three-layer ConvNet.            #\n",
        "    ############################################################################\n",
        "    # *****START OF YOUR CODE (DO NOT DELETE/MODIFY THIS LINE)*****\n",
        "\n",
        "\n",
        "    #tf.nn.conv2d(input, filters, strides, padding, data_format='NHWC', dilations=None, name=None)\n",
        "\n",
        "    conv_1 = tf.nn.conv2d(x, conv_w1,  strides=1, padding='SAME') + conv_b1\n",
        "    conv_1_relu_1 = tf.nn.relu(conv_1)\n",
        "    conv_1_relu_2 = tf.nn.relu(conv_1_relu_1)\n",
        "\n",
        "    conv_2 = tf.nn.conv2d(conv_1_relu_2, conv_w2, strides=1, padding='SAME') + conv_b2\n",
        "    conv_2_relu = tf.nn.relu(conv_2)\n",
        "\n",
        "    #print(conv_2_relu.shape)\n",
        "    #print(flatten(conv_2_relu).shape)\n",
        "    #print(fc_w.shape)\n",
        "    #print(fc_b.shape)\n",
        "\n",
        "    scores = tf.matmul(flatten(conv_2_relu), fc_w) + fc_b\n",
        "    return scores\n",
        "\n",
        "    # *****END OF YOUR CODE (DO NOT DELETE/MODIFY THIS LINE)*****\n",
        "    ############################################################################\n",
        "    #                              END OF YOUR CODE                            #\n",
        "    ############################################################################\n",
        "    return scores"
      ],
      "metadata": {
        "id": "0T-cxhFzACdw"
      },
      "execution_count": null,
      "outputs": []
    },
    {
      "cell_type": "markdown",
      "source": [
        "After defing the forward pass of the three-layer ConvNet above, run the following cell to test your implementation. Like the two-layer network, we run the graph on a batch of zeros just to make sure the function doesn't crash, and produces outputs of the correct shape.\n",
        "\n",
        "When you run this function, scores_np should have shape (64, 10)."
      ],
      "metadata": {
        "id": "sb5oLOhNAbl9"
      }
    },
    {
      "cell_type": "code",
      "source": [
        "def ThreeLayerConvNetTest():\n",
        "\n",
        "    with tf.device(device):\n",
        "        x = tf.zeros((64, 32, 32, 3))\n",
        "        conv_w1 = tf.zeros((5, 5, 3, 6))\n",
        "        conv_b1 = tf.zeros((6,))\n",
        "        conv_w2 = tf.zeros((3, 3, 6, 9))\n",
        "        conv_b2 = tf.zeros((9,))\n",
        "        fc_w = tf.zeros((32 * 32 * 9, 10))\n",
        "        fc_b = tf.zeros((10,))\n",
        "        params = [conv_w1, conv_b1, conv_w2, conv_b2, fc_w, fc_b]\n",
        "        scores = ThreeLayerConvNet(x, params)\n",
        "\n",
        "    # Inputs to convolutional layers are 4-dimensional arrays with shape\n",
        "    # [batch_size, height, width, channels]\n",
        "    print('scores_np has shape: ', scores.shape)\n",
        "\n",
        "ThreeLayerConvNetTest()"
      ],
      "metadata": {
        "id": "6M7vGsyfACmD",
        "colab": {
          "base_uri": "https://localhost:8080/"
        },
        "outputId": "6d862984-2c9a-4e79-e8af-a72dcb0bf196"
      },
      "execution_count": null,
      "outputs": [
        {
          "output_type": "stream",
          "name": "stdout",
          "text": [
            "scores_np has shape:  (64, 10)\n"
          ]
        }
      ]
    },
    {
      "cell_type": "markdown",
      "source": [
        "### Training Step\n",
        "We now define the training_step function performs a single training step. This will take three basic steps:\n",
        "\n",
        "Compute the loss\n",
        "Compute the gradient of the loss with respect to all network weights\n",
        "Make a weight update step using (stochastic) gradient descent.\n",
        "We need to use a few new TensorFlow functions to do all of this:\n",
        "\n",
        "For computing the cross-entropy loss we'll use tf.nn.\n",
        "sparse_softmax_cross_entropy_with_logits: https://www.tensorflow.org/versions/r2.0/api_docs/python/tf/nn/sparse_softmax_cross_entropy_with_logits\n",
        "\n",
        "For averaging the loss across a minibatch of data we'll use tf.reduce_mean:\n",
        "\n",
        "https://www.tensorflow.org/versions/r2.0/api_docs/python/tf/reduce_mean\n",
        "\n",
        "For computing gradients of the loss with respect to the weights we'll use tf.GradientTape (useful for Eager execution): https://www.tensorflow.org/versions/r2.0/api_docs/python/tf/GradientTape\n",
        "\n",
        "We'll mutate the weight values stored in a TensorFlow Tensor using tf.compat.v1.assign_sub (\"sub\" is for subtraction): https://www.tensorflow.org/versions/r2.0/api_docs/python/tf/compat/v1/assign_sub"
      ],
      "metadata": {
        "id": "RbdYumq5AriO"
      }
    },
    {
      "cell_type": "code",
      "source": [
        "def trainingStep(model_fn, x, y, params, learning_rate):\n",
        "    with tf.GradientTape() as tape:\n",
        "        scores = model_fn(x, params) # Forward pass of the model\n",
        "        loss = tf.nn.sparse_softmax_cross_entropy_with_logits(labels=y, logits=scores)\n",
        "        total_loss = tf.reduce_mean(loss)\n",
        "        grad_params = tape.gradient(total_loss, params)\n",
        "\n",
        "        # Make a vanilla gradient descent step on all of the model parameters\n",
        "        # Manually update the weights using assign_sub()\n",
        "        for w, grad_w in zip(params, grad_params):\n",
        "            w.assign_sub(learning_rate * grad_w)\n",
        "\n",
        "        return total_loss"
      ],
      "metadata": {
        "id": "Ktt3BqEzAvVx"
      },
      "execution_count": null,
      "outputs": []
    },
    {
      "cell_type": "code",
      "source": [
        "def trainingStep2(model_fn, init_fn, learning_rate):\n",
        "    \"\"\"\n",
        "    Train a model on CIFAR-10.\n",
        "\n",
        "    Inputs:\n",
        "    - model_fn: A Python function that performs the forward pass of the model\n",
        "      using TensorFlow; it should have the following signature:\n",
        "      scores = model_fn(x, params) where x is a TensorFlow Tensor giving a\n",
        "      minibatch of image data, params is a list of TensorFlow Tensors holding\n",
        "      the model weights, and scores is a TensorFlow Tensor of shape (N, C)\n",
        "      giving scores for all elements of x.\n",
        "    - init_fn: A Python function that initializes the parameters of the model.\n",
        "      It should have the signature params = init_fn() where params is a list\n",
        "      of TensorFlow Tensors holding the (randomly initialized) weights of the\n",
        "      model.\n",
        "    - learning_rate: Python float giving the learning rate to use for SGD.\n",
        "    \"\"\"\n",
        "    params = init_fn()  # Initialize the model parameters\n",
        "\n",
        "    for t, (x_np, y_np) in enumerate(train_dset):\n",
        "        # Run the graph on a batch of training data.\n",
        "        loss = trainingStep(model_fn, x_np, y_np, params, learning_rate)\n",
        "\n",
        "        # Periodically print the loss and check accuracy on the val set.\n",
        "        if t % print_every == 0:\n",
        "            print('Iteration %d, loss = %.4f' % (t, loss))\n",
        "            check_accuracy(val_dset, x_np, model_fn, params)"
      ],
      "metadata": {
        "id": "k4xadUESA02j"
      },
      "execution_count": null,
      "outputs": []
    },
    {
      "cell_type": "code",
      "source": [
        "def check_accuracy(dset, x, model_fn, params):\n",
        "    \"\"\"\n",
        "    Check accuracy on a classification model, e.g. for validation.\n",
        "\n",
        "    Inputs:\n",
        "    - dset: A Dataset object against which to check accuracy\n",
        "    - x: A TensorFlow placeholder Tensor where input images should be fed\n",
        "    - model_fn: the Model we will be calling to make predictions on x\n",
        "    - params: parameters for the model_fn to work with\n",
        "\n",
        "    Returns: Nothing, but prints the accuracy of the model\n",
        "    \"\"\"\n",
        "    num_correct, num_samples = 0, 0\n",
        "    for x_batch, y_batch in dset:\n",
        "        scores_np = model_fn(x_batch, params).numpy()\n",
        "        y_pred = scores_np.argmax(axis=1)\n",
        "        num_samples += x_batch.shape[0]\n",
        "        num_correct += (y_pred == y_batch).sum()\n",
        "    acc = float(num_correct) / num_samples\n",
        "    print('Got %d / %d correct (%.2f%%)' % (num_correct, num_samples, 100 * acc))"
      ],
      "metadata": {
        "id": "J2c2oOjqA1Bp"
      },
      "execution_count": null,
      "outputs": []
    },
    {
      "cell_type": "markdown",
      "source": [
        "### Initialization\n",
        "We'll use the following utility method to initialize the weight matrices for our models using Kaiming's normalization method.\n",
        "\n",
        "[1] He et al, Delving Deep into Rectifiers: Surpassing Human-Level Performance on ImageNet Classification , ICCV 2015, https://arxiv.org/abs/1502.01852"
      ],
      "metadata": {
        "id": "a8Bi2AQFA_-X"
      }
    },
    {
      "cell_type": "code",
      "source": [
        "def create_matrix_with_kaiming_normal(shape):\n",
        "\n",
        "    if len(shape) == 2:\n",
        "        fan_in, fan_out = shape[0], shape[1]\n",
        "    elif len(shape) == 4:\n",
        "        fan_in, fan_out = np.prod(shape[:3]), shape[3]\n",
        "    return tf.keras.backend.random_normal(shape) * np.sqrt(2.0 / fan_in)"
      ],
      "metadata": {
        "id": "rRYZynwLA5K2"
      },
      "execution_count": null,
      "outputs": []
    },
    {
      "cell_type": "markdown",
      "source": [
        "### Train a Two-Layer Network\n",
        "We are finally ready to use all of the pieces defined above to train a two-layer fully-connected network on CIFAR-10.\n",
        "\n",
        "We just need to define a function to initialize the weights of the model, and call train_part2.\n",
        "\n",
        "Defining the weights of the network introduces another important piece of TensorFlow API: tf.Variable. A TensorFlow Variable is a Tensor whose value is stored in the graph and persists across runs of the computational graph; however unlike constants defined with tf.zeros or tf.random_normal, the values of a Variable can be mutated as the graph runs; these mutations will persist across graph runs. Learnable parameters of the network are usually stored in Variables.\n",
        "\n",
        "You don't need to tune any hyperparameters, but you should achieve validation accuracies above 40% after one epoch of training."
      ],
      "metadata": {
        "id": "kGKP6D2oBLOD"
      }
    },
    {
      "cell_type": "code",
      "source": [
        "def TwoLayerFCNeuralNetwork_init():\n",
        "    \"\"\"\n",
        "    Initialize the weights of a two-layer network, for use with the\n",
        "    TwoLayerFCNeuralNetwork function defined above.\n",
        "    You can use the `create_matrix_with_kaiming_normal` helper!\n",
        "\n",
        "    Inputs: None\n",
        "\n",
        "    Returns: A list of:\n",
        "    - w1: TensorFlow tf.Variable giving the weights for the first layer\n",
        "    - w2: TensorFlow tf.Variable giving the weights for the second layer\n",
        "    \"\"\"\n",
        "    hidden_layer_size = 4000\n",
        "    w1 = tf.Variable(create_matrix_with_kaiming_normal((3 * 32 * 32, 4000)))\n",
        "    w2 = tf.Variable(create_matrix_with_kaiming_normal((4000, 10)))\n",
        "    return [w1, w2]\n",
        "\n",
        "learning_rate = 1e-2\n",
        "trainingStep2(TwoLayerFCNeuralNetwork, TwoLayerFCNeuralNetwork_init, learning_rate)"
      ],
      "metadata": {
        "id": "D8C8_UOfA5Xv",
        "colab": {
          "base_uri": "https://localhost:8080/"
        },
        "outputId": "6d400fde-d8be-47b7-b5ac-6dd99a070d5f"
      },
      "execution_count": null,
      "outputs": [
        {
          "output_type": "stream",
          "name": "stdout",
          "text": [
            "Iteration 0, loss = 3.0984\n",
            "Got 157 / 1000 correct (15.70%)\n",
            "Iteration 100, loss = 2.0063\n",
            "Got 400 / 1000 correct (40.00%)\n",
            "Iteration 200, loss = 1.5056\n",
            "Got 394 / 1000 correct (39.40%)\n",
            "Iteration 300, loss = 1.8243\n",
            "Got 374 / 1000 correct (37.40%)\n",
            "Iteration 400, loss = 1.7761\n",
            "Got 431 / 1000 correct (43.10%)\n",
            "Iteration 500, loss = 1.8286\n",
            "Got 440 / 1000 correct (44.00%)\n",
            "Iteration 600, loss = 1.7744\n",
            "Got 446 / 1000 correct (44.60%)\n",
            "Iteration 700, loss = 2.0408\n",
            "Got 440 / 1000 correct (44.00%)\n"
          ]
        }
      ]
    },
    {
      "cell_type": "markdown",
      "source": [
        "### Train a three-layer ConvNet\n",
        "We will now use TensorFlow to train a three-layer ConvNet on CIFAR-10.\n",
        "\n",
        "You need to implement the ThreeLayerConvNet_init function. Recall that the architecture of the network is:\n",
        "\n",
        "Convolutional layer (with bias) with 32 5x5 filters, with zero-padding 2\n",
        "ReLU\n",
        "Convolutional layer (with bias) with 16 3x3 filters, with zero-padding 1\n",
        "ReLU\n",
        "Fully-connected layer (with bias) to compute scores for 10 classes\n",
        "You don't need to do any hyperparameter tuning, but you should see validation accuracies above 43% after one epoch of training.\n"
      ],
      "metadata": {
        "id": "hsxyBeOBBYuL"
      }
    },
    {
      "cell_type": "code",
      "source": [
        "def ThreeLayerConvNet_init():\n",
        "    \"\"\"\n",
        "    Initialize the weights of a Three-Layer ConvNet, for use with the\n",
        "    ThreeLayerConvNet function defined above.\n",
        "    You can use the `create_matrix_with_kaiming_normal` helper!\n",
        "\n",
        "    Inputs: None\n",
        "\n",
        "    Returns a list containing:\n",
        "    - conv_w1: TensorFlow tf.Variable giving weights for the first conv layer\n",
        "    - conv_b1: TensorFlow tf.Variable giving biases for the first conv layer\n",
        "    - conv_w2: TensorFlow tf.Variable giving weights for the second conv layer\n",
        "    - conv_b2: TensorFlow tf.Variable giving biases for the second conv layer\n",
        "    - fc_w: TensorFlow tf.Variable giving weights for the fully-connected layer\n",
        "    - fc_b: TensorFlow tf.Variable giving biases for the fully-connected layer\n",
        "    \"\"\"\n",
        "    params = None\n",
        "    ############################################################################\n",
        "    # TODO: Initialize the parameters of the three-layer network.              #\n",
        "    ############################################################################\n",
        "    # *****START OF YOUR CODE (DO NOT DELETE/MODIFY THIS LINE)*****\n",
        "\n",
        "\n",
        "    conv_w1 = tf.Variable(create_matrix_with_kaiming_normal((5, 5, 3, 32)))\n",
        "    conv_b1 = tf.Variable(tf.zeros((32,)))\n",
        "\n",
        "    conv_w2 = tf.Variable(create_matrix_with_kaiming_normal((3, 3, 32, 16)))\n",
        "    conv_b2 = tf.Variable(tf.zeros((16,)))\n",
        "\n",
        "    fc_w = tf.Variable(create_matrix_with_kaiming_normal((32 * 32 * 16, 10)))\n",
        "    fc_b = tf.Variable(tf.zeros((10,)))\n",
        "\n",
        "    params = [conv_w1, conv_b1, conv_w2, conv_b2, fc_w, fc_b]\n",
        "\n",
        "    # *****END OF YOUR CODE (DO NOT DELETE/MODIFY THIS LINE)*****\n",
        "    ############################################################################\n",
        "    #                             END OF YOUR CODE                             #\n",
        "    ############################################################################\n",
        "    return params\n",
        "\n",
        "learning_rate = 3e-3\n",
        "trainingStep2(ThreeLayerConvNet, ThreeLayerConvNet_init, learning_rate)"
      ],
      "metadata": {
        "id": "3s4pC1YrA5fB",
        "colab": {
          "base_uri": "https://localhost:8080/"
        },
        "outputId": "c89ed55c-69b8-4a75-dbdd-c47a18c37ad9"
      },
      "execution_count": null,
      "outputs": [
        {
          "output_type": "stream",
          "name": "stdout",
          "text": [
            "Iteration 0, loss = 3.5380\n",
            "Got 107 / 1000 correct (10.70%)\n",
            "Iteration 100, loss = 1.9088\n",
            "Got 344 / 1000 correct (34.40%)\n",
            "Iteration 200, loss = 1.5779\n",
            "Got 402 / 1000 correct (40.20%)\n",
            "Iteration 300, loss = 1.7157\n",
            "Got 407 / 1000 correct (40.70%)\n",
            "Iteration 400, loss = 1.7150\n",
            "Got 449 / 1000 correct (44.90%)\n",
            "Iteration 500, loss = 1.7250\n",
            "Got 466 / 1000 correct (46.60%)\n",
            "Iteration 600, loss = 1.7007\n",
            "Got 476 / 1000 correct (47.60%)\n",
            "Iteration 700, loss = 1.4838\n",
            "Got 477 / 1000 correct (47.70%)\n"
          ]
        }
      ]
    },
    {
      "cell_type": "markdown",
      "source": [
        "## Part III: Keras Model Subclassing API\n",
        "Implementing a neural network using the low-level TensorFlow API is a good way to understand how TensorFlow works, but it's a little inconvenient - we had to manually keep track of all Tensors holding learnable parameters. This was fine for a small network, but could quickly become unweildy for a large complex model.\n",
        "\n",
        "Fortunately TensorFlow 2.0 provides higher-level APIs such as tf.keras which make it easy to build models out of modular, object-oriented layers. Further, TensorFlow 2.0 uses eager execution that evaluates operations immediately, without explicitly constructing any computational graphs. This makes it easy to write and debug models, and reduces the boilerplate code.\n",
        "\n",
        "In this part of the notebook we will define neural network models using the tf.keras.Model API. To implement your own model, you need to do the following:\n",
        "\n",
        "Define a new class which subclasses tf.keras.Model. Give your class an intuitive name that describes it, like twoLayerFC or threeLayerConvNet.\n",
        "In the initializer __init__() for your new class, define all the layers you need as class attributes. The tf.keras.layers package provides many common neural-network layers, like tf.keras.layers.Dense for fully-connected layers and tf.keras.layers.Conv2D for convolutional layers. Under the hood, these layers will construct Variable Tensors for any learnable parameters. Warning: Don't forget to call super(YourModelName, self).__init__() as the first line in your initializer!\n",
        "Implement the call() method for your class; this implements the forward pass of your model, and defines the connectivity of your network. Layers defined in __init__() implement __call__() so they can be used as function objects that transform input Tensors into output Tensors. Don't define any new layers in call(); any layers you want to use in the forward pass should be defined in __init__().\n",
        "After you define your tf.keras.Model subclass, you can instantiate it and use it like the model functions from Part II.\n",
        "\n",
        "Keras Model Subclassing API: Two-Layer Network\n",
        "Here is a concrete example of using the tf.keras.Model API to define a two-layer network. There are a few new bits of API to be aware of here:\n",
        "\n",
        "We use an Initializer object to set up the initial values of the learnable parameters of the layers; in particular tf.initializers.VarianceScaling gives behavior similar to the Kaiming initialization method we used in Part II. You can read more about it here: https://www.tensorflow.org/versions/r2.0/api_docs/python/tf/initializers/VarianceScaling\n",
        "\n",
        "We construct tf.keras.layers.Dense objects to represent the two fully-connected layers of the model. In addition to multiplying their input by a weight matrix and adding a bias vector, these layer can also apply a nonlinearity for you. For the first layer we specify a ReLU activation function by passing activation='relu' to the constructor; the second layer uses softmax activation function. Finally, we use tf.keras.layers.Flatten to flatten the output from the previous fully-connected layer."
      ],
      "metadata": {
        "id": "O3w8LGTcBs9y"
      }
    },
    {
      "cell_type": "code",
      "source": [
        "class twoLayerFC(tf.keras.Model):\n",
        "    def __init__(self, hidden_size, num_classes):\n",
        "        super(twoLayerFC, self).__init__()\n",
        "        initializer = tf.initializers.VarianceScaling(scale=2.0)\n",
        "        self.fc1 = tf.keras.layers.Dense(hidden_size, activation='relu',\n",
        "                                   kernel_initializer=initializer)\n",
        "        self.fc2 = tf.keras.layers.Dense(num_classes, activation='softmax',\n",
        "                                   kernel_initializer=initializer)\n",
        "        self.flatten = tf.keras.layers.Flatten()\n",
        "\n",
        "    def call(self, x, training=False):\n",
        "        x = self.flatten(x)\n",
        "        x = self.fc1(x)\n",
        "        x = self.fc2(x)\n",
        "        return x\n",
        "\n",
        "\n",
        "def twoLayerFC_test():\n",
        "    \"\"\" A small unit test to exercise the TwoLayerFC model above. \"\"\"\n",
        "    input_size, hidden_size, num_classes = 50, 42, 10\n",
        "    x = tf.zeros((64, input_size))\n",
        "    model = twoLayerFC(hidden_size, num_classes)\n",
        "    with tf.device(device):\n",
        "        scores = model(x)\n",
        "        print(scores.shape)\n",
        "\n",
        "twoLayerFC_test()"
      ],
      "metadata": {
        "id": "9gAEujFYBh4k",
        "colab": {
          "base_uri": "https://localhost:8080/"
        },
        "outputId": "113da011-8016-4d72-c9d6-743cc23c923c"
      },
      "execution_count": null,
      "outputs": [
        {
          "output_type": "stream",
          "name": "stdout",
          "text": [
            "(64, 10)\n"
          ]
        },
        {
          "output_type": "stream",
          "name": "stderr",
          "text": [
            "/usr/local/lib/python3.10/dist-packages/keras/src/initializers/initializers.py:120: UserWarning: The initializer VarianceScaling is unseeded and being called multiple times, which will return identical values each time (even if the initializer is unseeded). Please update your code to provide a seed to the initializer, or avoid using the same initializer instance more than once.\n",
            "  warnings.warn(\n"
          ]
        }
      ]
    },
    {
      "cell_type": "markdown",
      "source": [
        "### Keras Model Subclassing API: Three-Layer ConvNet\n",
        "Now it's your turn to implement a three-layer ConvNet using the tf.keras.Model API. Your model should have the same architecture used in Part II:\n",
        "\n",
        "Convolutional layer with 5 x 5 kernels, with zero-padding of 2\n",
        "ReLU nonlinearity\n",
        "Convolutional layer with 3 x 3 kernels, with zero-padding of 1\n",
        "ReLU nonlinearity\n",
        "Fully-connected layer to give class scores\n",
        "Softmax nonlinearity\n",
        "You should initialize the weights of your network using the same initialization method as was used in the two-layer network above.\n",
        "\n",
        "Hint: Refer to the documentation for tf.keras.layers.Conv2D and tf.keras.layers.Dense:\n",
        "\n",
        "https://www.tensorflow.org/versions/r2.0/api_docs/python/tf/keras/layers/Conv2D\n",
        "\n",
        "https://www.tensorflow.org/versions/r2.0/api_docs/python/tf/keras/layers/Dense"
      ],
      "metadata": {
        "id": "4KU3U09CB99C"
      }
    },
    {
      "cell_type": "code",
      "source": [
        "class threeLayerConvNet(tf.keras.Model):\n",
        "    def __init__(self, channel_1, channel_2, num_classes):\n",
        "        super(threeLayerConvNet, self).__init__()\n",
        "        ########################################################################\n",
        "        # TODO: Implement the __init__ method for a three-layer ConvNet. You   #\n",
        "        # should instantiate layer objects to be used in the forward pass.     #\n",
        "        ########################################################################\n",
        "        # *****START OF YOUR CODE (DO NOT DELETE/MODIFY THIS LINE)*****\n",
        "\n",
        "        initializer = tf.initializers.VarianceScaling(scale=2.0)\n",
        "        self.conv1 = tf.keras.layers.Conv2D(channel_1,  kernel_size=5, strides=1,\n",
        "                                            padding=\"same\",use_bias=True,\n",
        "                                            kernel_initializer=initializer,activation='relu',\n",
        "                                            bias_initializer='zeros')\n",
        "        self.conv2 = tf.keras.layers.Conv2D(channel_2,  kernel_size=3, strides=1,\n",
        "                                            padding='same',use_bias=True,\n",
        "                                            kernel_initializer=initializer,activation='relu',\n",
        "                                            bias_initializer='zeros')\n",
        "        self.fc1 = tf.keras.layers.Dense(num_classes, activation='softmax',\n",
        "                                         kernel_initializer=initializer)\n",
        "        self.flatten = tf.keras.layers.Flatten()\n",
        "\n",
        "        # *****END OF YOUR CODE (DO NOT DELETE/MODIFY THIS LINE)*****\n",
        "        ########################################################################\n",
        "        #                           END OF YOUR CODE                           #\n",
        "        ########################################################################\n",
        "\n",
        "    def call(self, x, training=False):\n",
        "        scores = None\n",
        "        ########################################################################\n",
        "        # TODO: Implement the forward pass for a three-layer ConvNet. You      #\n",
        "        # should use the layer objects defined in the __init__ method.         #\n",
        "        ########################################################################\n",
        "        # *****START OF YOUR CODE (DO NOT DELETE/MODIFY THIS LINE)*****\n",
        "\n",
        "        x = self.conv1(x)\n",
        "        x = self.conv2(x)\n",
        "        x = self.flatten(x)\n",
        "        scores = self.fc1(x)\n",
        "\n",
        "        # *****END OF YOUR CODE (DO NOT DELETE/MODIFY THIS LINE)*****\n",
        "        ########################################################################\n",
        "        #                           END OF YOUR CODE                           #\n",
        "        ########################################################################\n",
        "        return scores"
      ],
      "metadata": {
        "id": "enSGhF2GCDVx"
      },
      "execution_count": null,
      "outputs": []
    },
    {
      "cell_type": "markdown",
      "source": [
        "Once you complete the implementation of the threeLayerConvNet above you can run the following to ensure that your implementation does not crash and produces outputs of the expected shape."
      ],
      "metadata": {
        "id": "iYuoOEzxDHN_"
      }
    },
    {
      "cell_type": "code",
      "source": [
        "def threeLayerConvNet_test():\n",
        "    channel_1, channel_2, num_classes = 12, 8, 10\n",
        "    print(channel_1, channel_2, num_classes)\n",
        "    model = threeLayerConvNet(channel_1, channel_2, num_classes)\n",
        "    with tf.device(device):\n",
        "        x = tf.zeros((64, 3, 32, 32))\n",
        "        scores = model(x)\n",
        "        print(scores.shape)\n",
        "\n",
        "threeLayerConvNet_test()"
      ],
      "metadata": {
        "id": "LLmOo_bPDHbJ",
        "colab": {
          "base_uri": "https://localhost:8080/"
        },
        "outputId": "18381710-36af-4378-c11c-2f176dcdd654"
      },
      "execution_count": null,
      "outputs": [
        {
          "output_type": "stream",
          "name": "stdout",
          "text": [
            "12 8 10\n",
            "(64, 10)\n"
          ]
        }
      ]
    },
    {
      "cell_type": "markdown",
      "source": [
        "### Keras Model Subclassing API: Eager Training\n",
        "While keras models have a builtin training loop (using the model.fit), sometimes you need more customization. Here's an example, of a training loop implemented with eager execution.\n",
        "\n",
        "In particular, notice tf.GradientTape. Automatic differentiation is used in the backend for implementing backpropagation in frameworks like TensorFlow. During eager execution, tf.GradientTape is used to trace operations for computing gradients later. A particular tf.GradientTape can only compute one gradient; subsequent calls to tape will throw a runtime error.\n",
        "\n",
        "TensorFlow 2.0 ships with easy-to-use built-in metrics under tf.keras.metrics module. Each metric is an object, and we can use update_state() to add observations and reset_state() to clear all observations. We can get the current result of a metric by calling result() on the metric object."
      ],
      "metadata": {
        "id": "5bHuYTJQDp5B"
      }
    },
    {
      "cell_type": "code",
      "source": [
        "def training_part3(model_init_fn, optimizer_init_fn, num_epochs=1, is_training=False):\n",
        "    \"\"\"\n",
        "    Simple training loop for use with models defined using tf.keras. It trains\n",
        "    a model for one epoch on the CIFAR-10 training set and periodically checks\n",
        "    accuracy on the CIFAR-10 validation set.\n",
        "\n",
        "    Inputs:\n",
        "    - model_init_fn: A function that takes no parameters; when called it\n",
        "      constructs the model we want to train: model = model_init_fn()\n",
        "    - optimizer_init_fn: A function which takes no parameters; when called it\n",
        "      constructs the Optimizer object we will use to optimize the model:\n",
        "      optimizer = optimizer_init_fn()\n",
        "    - num_epochs: The number of epochs to train for\n",
        "\n",
        "    Returns: Nothing, but prints progress during trainingn\n",
        "    \"\"\"\n",
        "    with tf.device(device):\n",
        "\n",
        "        # Compute the loss like we did in Part II\n",
        "        loss_fn = tf.keras.losses.SparseCategoricalCrossentropy()\n",
        "\n",
        "        model = model_init_fn()\n",
        "        optimizer = optimizer_init_fn()\n",
        "\n",
        "        train_loss = tf.keras.metrics.Mean(name='train_loss')\n",
        "        train_accuracy = tf.keras.metrics.SparseCategoricalAccuracy(name='train_accuracy')\n",
        "\n",
        "        val_loss = tf.keras.metrics.Mean(name='val_loss')\n",
        "        val_accuracy = tf.keras.metrics.SparseCategoricalAccuracy(name='val_accuracy')\n",
        "\n",
        "        t = 0\n",
        "        for epoch in range(num_epochs):\n",
        "\n",
        "            # Reset the metrics - https://www.tensorflow.org/alpha/guide/migration_guide#new-style_metrics\n",
        "            train_loss.reset_states()\n",
        "            train_accuracy.reset_states()\n",
        "\n",
        "            for x_np, y_np in train_dset:\n",
        "                with tf.GradientTape() as tape:\n",
        "\n",
        "                    # Use the model function to build the forward pass.\n",
        "                    scores = model(x_np, training=is_training)\n",
        "                    loss = loss_fn(y_np, scores)\n",
        "\n",
        "                    gradients = tape.gradient(loss, model.trainable_variables)\n",
        "                    optimizer.apply_gradients(zip(gradients, model.trainable_variables))\n",
        "\n",
        "                    # Update the metrics\n",
        "                    train_loss.update_state(loss)\n",
        "                    train_accuracy.update_state(y_np, scores)\n",
        "\n",
        "                    if t % print_every == 0:\n",
        "                        val_loss.reset_states()\n",
        "                        val_accuracy.reset_states()\n",
        "                        for test_x, test_y in val_dset:\n",
        "                            # During validation at end of epoch, training set to False\n",
        "                            prediction = model(test_x, training=False)\n",
        "                            t_loss = loss_fn(test_y, prediction)\n",
        "\n",
        "                            val_loss.update_state(t_loss)\n",
        "                            val_accuracy.update_state(test_y, prediction)\n",
        "\n",
        "                        template = 'Iteration {}, Epoch {}, Loss: {:.4f}, Accuracy: {:.4f}, Val Loss: {:.4f}, Val Accuracy: {:.4f}'\n",
        "                        print (template.format(t, epoch+1,\n",
        "                                             train_loss.result(),\n",
        "                                             train_accuracy.result()*100,\n",
        "                                             val_loss.result(),\n",
        "                                             val_accuracy.result()*100))\n",
        "                    t += 1"
      ],
      "metadata": {
        "id": "VrVCykgiDoer"
      },
      "execution_count": null,
      "outputs": []
    },
    {
      "cell_type": "markdown",
      "source": [
        "### Keras Model Subclassing API: Train a Two-Layer Network\n",
        "We can now use the tools defined above to train a two-layer network on CIFAR-10. We define the model_init_fn and optimizer_init_fn that construct the model and optimizer respectively when called. Here we want to train the model using stochastic gradient descent with no momentum, so we construct a tf.keras.optimizers.SGD function; you can read about it here.\n",
        "\n",
        "You don't need to tune any hyperparameters here, but you should achieve validation accuracies above 40% after one epoch of training."
      ],
      "metadata": {
        "id": "yHeDvt8lDx1P"
      }
    },
    {
      "cell_type": "code",
      "source": [
        "hidden_size, num_classes = 4000, 10\n",
        "learning_rate = 1e-2\n",
        "\n",
        "def model_init_fn():\n",
        "    return twoLayerFC(hidden_size, num_classes)\n",
        "\n",
        "def optimizer_init_fn():\n",
        "    return tf.keras.optimizers.SGD(learning_rate=learning_rate)\n",
        "\n",
        "training_part3(model_init_fn, optimizer_init_fn)"
      ],
      "metadata": {
        "id": "GXwnvdb-DzoD",
        "colab": {
          "base_uri": "https://localhost:8080/"
        },
        "outputId": "b417c7f6-f225-4576-afd0-35bb6e0904cc"
      },
      "execution_count": null,
      "outputs": [
        {
          "output_type": "stream",
          "name": "stdout",
          "text": [
            "Iteration 0, Epoch 1, Loss: 2.8972, Accuracy: 18.7500, Val Loss: 2.7593, Val Accuracy: 12.4000\n",
            "Iteration 100, Epoch 1, Loss: 2.2123, Accuracy: 29.5328, Val Loss: 1.9357, Val Accuracy: 37.8000\n",
            "Iteration 200, Epoch 1, Loss: 2.0671, Accuracy: 32.8203, Val Loss: 1.8852, Val Accuracy: 38.6000\n",
            "Iteration 300, Epoch 1, Loss: 1.9972, Accuracy: 34.5567, Val Loss: 1.8639, Val Accuracy: 38.5000\n",
            "Iteration 400, Epoch 1, Loss: 1.9291, Accuracy: 36.3505, Val Loss: 1.7623, Val Accuracy: 40.3000\n",
            "Iteration 500, Epoch 1, Loss: 1.8853, Accuracy: 37.3253, Val Loss: 1.6525, Val Accuracy: 44.2000\n",
            "Iteration 600, Epoch 1, Loss: 1.8561, Accuracy: 38.1240, Val Loss: 1.7101, Val Accuracy: 41.7000\n",
            "Iteration 700, Epoch 1, Loss: 1.8301, Accuracy: 38.7282, Val Loss: 1.6390, Val Accuracy: 45.1000\n"
          ]
        }
      ]
    },
    {
      "cell_type": "markdown",
      "source": [
        "### Keras Model Subclassing API: Train a Three-Layer ConvNet\n",
        "Here you should use the tools we've defined above to train a three-layer ConvNet on CIFAR-10. Your ConvNet should use 32 filters in the first convolutional layer and 16 filters in the second layer.\n",
        "\n",
        "To train the model you should use gradient descent with Nesterov momentum 0.9.\n",
        "\n",
        "HINT: https://www.tensorflow.org/versions/r2.0/api_docs/python/tf/optimizers/SGD\n",
        "\n",
        "You don't need to perform any hyperparameter tuning, but you should achieve validation accuracies above 50% after training for one epoch."
      ],
      "metadata": {
        "id": "Bnzam9-eD5hO"
      }
    },
    {
      "cell_type": "code",
      "source": [
        "learning_rate = 3e-3\n",
        "channel_1, channel_2, num_classes = 32, 16, 10\n",
        "\n",
        "def model_init_fn():\n",
        "    model = None\n",
        "    ############################################################################\n",
        "    # TODO: Complete the implementation of model_fn.                           #\n",
        "    ############################################################################\n",
        "    # *****START OF YOUR CODE (DO NOT DELETE/MODIFY THIS LINE)*****\n",
        "\n",
        "    model =  threeLayerConvNet(channel_1, channel_2, num_classes)\n",
        "\n",
        "    # *****END OF YOUR CODE (DO NOT DELETE/MODIFY THIS LINE)*****\n",
        "    ############################################################################\n",
        "    #                           END OF YOUR CODE                               #\n",
        "    ############################################################################\n",
        "    return model\n",
        "\n",
        "def optimizer_init_fn():\n",
        "    optimizer = None\n",
        "    ############################################################################\n",
        "    # TODO: Complete the implementation of model_fn.                           #\n",
        "    ############################################################################\n",
        "    # *****START OF YOUR CODE (DO NOT DELETE/MODIFY THIS LINE)*****\n",
        "\n",
        "    optimizer = tf.keras.optimizers.SGD(learning_rate,\n",
        "                                        momentum = 0.9,\n",
        "                                        nesterov=True)\n",
        "\n",
        "    # *****END OF YOUR CODE (DO NOT DELETE/MODIFY THIS LINE)*****\n",
        "    ############################################################################\n",
        "    #                           END OF YOUR CODE                               #\n",
        "    ############################################################################\n",
        "    return optimizer\n",
        "\n",
        "training_part3(model_init_fn, optimizer_init_fn)"
      ],
      "metadata": {
        "id": "3r0Rof6uD67F",
        "colab": {
          "base_uri": "https://localhost:8080/"
        },
        "outputId": "4982b07c-c3de-4c66-e618-1ac2d3c39de1"
      },
      "execution_count": null,
      "outputs": [
        {
          "output_type": "stream",
          "name": "stdout",
          "text": [
            "Iteration 0, Epoch 1, Loss: 3.2407, Accuracy: 7.8125, Val Loss: 6.8325, Val Accuracy: 9.7000\n",
            "Iteration 100, Epoch 1, Loss: 2.1539, Accuracy: 27.3205, Val Loss: 1.8026, Val Accuracy: 37.0000\n",
            "Iteration 200, Epoch 1, Loss: 1.9313, Accuracy: 33.9397, Val Loss: 1.6226, Val Accuracy: 43.3000\n",
            "Iteration 300, Epoch 1, Loss: 1.8153, Accuracy: 37.4169, Val Loss: 1.4992, Val Accuracy: 48.5000\n",
            "Iteration 400, Epoch 1, Loss: 1.7227, Accuracy: 40.2392, Val Loss: 1.4334, Val Accuracy: 47.3000\n",
            "Iteration 500, Epoch 1, Loss: 1.6617, Accuracy: 42.0534, Val Loss: 1.3970, Val Accuracy: 49.6000\n",
            "Iteration 600, Epoch 1, Loss: 1.6211, Accuracy: 43.3106, Val Loss: 1.3703, Val Accuracy: 51.1000\n",
            "Iteration 700, Epoch 1, Loss: 1.5854, Accuracy: 44.5234, Val Loss: 1.3814, Val Accuracy: 51.2000\n"
          ]
        }
      ]
    },
    {
      "cell_type": "markdown",
      "source": [
        "## Part IV: Keras Sequential API\n",
        "In Part III we introduced the tf.keras.Model API, which allows you to define models with any number of learnable layers and with arbitrary connectivity between layers.\n",
        "\n",
        "However for many models you don't need such flexibility - a lot of models can be expressed as a sequential stack of layers, with the output of each layer fed to the next layer as input. If your model fits this pattern, then there is an even easier way to define your model: using tf.keras.Sequential. You don't need to write any custom classes; you simply call the tf.keras.Sequential constructor with a list containing a sequence of layer objects.\n",
        "\n",
        "One complication with tf.keras.Sequential is that you must define the shape of the input to the model by passing a value to the input_shape of the first layer in your model.\n",
        "\n",
        "Keras Sequential API: Two-Layer Network\n",
        "In this subsection, we will rewrite the two-layer fully-connected network using tf.keras.Sequential, and train it using the training loop defined above.\n",
        "\n",
        "You don't need to perform any hyperparameter tuning here, but you should see validation accuracies above 40% after training for one epoch."
      ],
      "metadata": {
        "id": "TsgyZELNEBTf"
      }
    },
    {
      "cell_type": "code",
      "source": [
        "learning_rate = 1e-2\n",
        "\n",
        "def model_init_fn():\n",
        "    input_shape = (32, 32, 3)\n",
        "    hidden_layer_size, num_classes = 4000, 10\n",
        "    initializer = tf.initializers.VarianceScaling(scale=2.0)\n",
        "    layers = [\n",
        "        tf.keras.layers.Flatten(input_shape=input_shape),\n",
        "        tf.keras.layers.Dense(hidden_layer_size, activation='relu',\n",
        "                              kernel_initializer=initializer),\n",
        "        tf.keras.layers.Dense(num_classes, activation='softmax',\n",
        "                              kernel_initializer=initializer),\n",
        "    ]\n",
        "    model = tf.keras.Sequential(layers)\n",
        "    return model\n",
        "\n",
        "def optimizer_init_fn():\n",
        "    return tf.keras.optimizers.SGD(learning_rate=learning_rate)\n",
        "\n",
        "training_part3(model_init_fn, optimizer_init_fn)"
      ],
      "metadata": {
        "id": "Lek8QCNEEDGA",
        "colab": {
          "base_uri": "https://localhost:8080/"
        },
        "outputId": "72e6707b-3a4e-474f-a13f-c8881a4d24bd"
      },
      "execution_count": null,
      "outputs": [
        {
          "output_type": "stream",
          "name": "stdout",
          "text": [
            "Iteration 0, Epoch 1, Loss: 2.8447, Accuracy: 10.9375, Val Loss: 2.8311, Val Accuracy: 11.9000\n",
            "Iteration 100, Epoch 1, Loss: 2.2313, Accuracy: 28.5582, Val Loss: 1.8552, Val Accuracy: 36.9000\n",
            "Iteration 200, Epoch 1, Loss: 2.0703, Accuracy: 32.1984, Val Loss: 1.8397, Val Accuracy: 39.0000\n",
            "Iteration 300, Epoch 1, Loss: 1.9989, Accuracy: 33.9441, Val Loss: 1.8820, Val Accuracy: 38.7000\n",
            "Iteration 400, Epoch 1, Loss: 1.9301, Accuracy: 35.9998, Val Loss: 1.7168, Val Accuracy: 42.2000\n",
            "Iteration 500, Epoch 1, Loss: 1.8861, Accuracy: 37.1351, Val Loss: 1.6553, Val Accuracy: 44.0000\n",
            "Iteration 600, Epoch 1, Loss: 1.8545, Accuracy: 38.0356, Val Loss: 1.6713, Val Accuracy: 42.3000\n",
            "Iteration 700, Epoch 1, Loss: 1.8279, Accuracy: 38.6613, Val Loss: 1.6235, Val Accuracy: 46.1000\n"
          ]
        }
      ]
    },
    {
      "cell_type": "markdown",
      "source": [
        "### Abstracting Away the Training Loop\n",
        "In the previous examples, we used a customised training loop to train models (e.g. train_part34). Writing your own training loop is only required if you need more flexibility and control during training your model. Alternately, you can also use built-in APIs like tf.keras.Model.fit() and tf.keras.Model.evaluate to train and evaluate a model. Also remember to configure your model for training by calling `tf.keras.Model.compile.\n",
        "\n",
        "You don't need to perform any hyperparameter tuning here, but you should see validation and test accuracies above 42% after training for one epoch."
      ],
      "metadata": {
        "id": "3Vbvvp3HEJlg"
      }
    },
    {
      "cell_type": "code",
      "source": [
        "model = model_init_fn()\n",
        "model.compile(optimizer=tf.keras.optimizers.SGD(learning_rate=learning_rate),\n",
        "              loss='sparse_categorical_crossentropy',\n",
        "              metrics=[tf.keras.metrics.sparse_categorical_accuracy])\n",
        "model.fit(X_train, y_train, batch_size=64, epochs=1, validation_data=(X_val, y_val))\n",
        "model.evaluate(X_test, y_test)"
      ],
      "metadata": {
        "id": "TybJsElPEUrU",
        "colab": {
          "base_uri": "https://localhost:8080/"
        },
        "outputId": "73acb574-51bd-42b7-a441-ff91c3b64832"
      },
      "execution_count": null,
      "outputs": [
        {
          "output_type": "stream",
          "name": "stdout",
          "text": [
            "766/766 [==============================] - 60s 78ms/step - loss: 1.8280 - sparse_categorical_accuracy: 0.3862 - val_loss: 1.7186 - val_sparse_categorical_accuracy: 0.3970\n",
            "313/313 [==============================] - 5s 15ms/step - loss: 1.7128 - sparse_categorical_accuracy: 0.4138\n"
          ]
        },
        {
          "output_type": "execute_result",
          "data": {
            "text/plain": [
              "[1.7127695083618164, 0.4138000011444092]"
            ]
          },
          "metadata": {},
          "execution_count": 24
        }
      ]
    },
    {
      "cell_type": "markdown",
      "source": [
        "### Keras Sequential API: Three-Layer ConvNet\n",
        "Here you should use tf.keras.Sequential to reimplement the same three-layer ConvNet architecture used in Part II and Part III. As a reminder, your model should have the following architecture:\n",
        "\n",
        "Convolutional layer with 32 5x5 kernels, using zero padding of 2\n",
        "ReLU nonlinearity\n",
        "Convolutional layer with 16 3x3 kernels, using zero padding of 1\n",
        "ReLU nonlinearity\n",
        "Fully-connected layer giving class scores\n",
        "Softmax nonlinearity\n",
        "You should initialize the weights of the model using a tf.initializers.VarianceScaling as above.\n",
        "\n",
        "You should train the model using Nesterov momentum 0.9.\n",
        "\n",
        "You don't need to perform any hyperparameter search, but you should achieve accuracy above 45% after training for one epoch."
      ],
      "metadata": {
        "id": "bUmTp0-bEZFo"
      }
    },
    {
      "cell_type": "code",
      "source": [
        "def model_init_fn():\n",
        "    model = None\n",
        "    ############################################################################\n",
        "    # TODO: Construct a three-layer ConvNet using tf.keras.Sequential.         #\n",
        "    ############################################################################\n",
        "    # *****START OF YOUR CODE (DO NOT DELETE/MODIFY THIS LINE)*****\n",
        "    initializer = tf.initializers.VarianceScaling(scale=2.0)\n",
        "    print(channel_1)\n",
        "    model = tf.keras.Sequential([\n",
        "        tf.keras.layers.Conv2D(channel_1, kernel_size=5, strides=1, padding=\"same\",\n",
        "                                     use_bias=True, kernel_initializer=initializer,\n",
        "                                     activation='relu', bias_initializer='zeros'),\n",
        "        tf.keras.layers.Conv2D(channel_2, kernel_size=3, strides=1, padding='same',\n",
        "                                     use_bias=True, kernel_initializer=initializer,\n",
        "                                     activation='relu', bias_initializer='zeros'),\n",
        "        tf.keras.layers.Flatten(),\n",
        "        tf.keras.layers.Dense(num_classes, activation='softmax', kernel_initializer=initializer),\n",
        "    ])\n",
        "\n",
        "    # *****END OF YOUR CODE (DO NOT DELETE/MODIFY THIS LINE)*****\n",
        "    ############################################################################\n",
        "    #                            END OF YOUR CODE                              #\n",
        "    ############################################################################\n",
        "    return model\n",
        "\n",
        "learning_rate = 5e-4\n",
        "\n",
        "def optimizer_init_fn():\n",
        "    optimizer = None\n",
        "    ############################################################################\n",
        "    # TODO: Complete the implementation of model_fn.                           #\n",
        "    ############################################################################\n",
        "    # *****START OF YOUR CODE (DO NOT DELETE/MODIFY THIS LINE)*****\n",
        "\n",
        "    optimizer = tf.keras.optimizers.SGD(learning_rate,\n",
        "                                        momentum = 0.9,\n",
        "                                        nesterov=True)\n",
        "\n",
        "    # *****END OF YOUR CODE (DO NOT DELETE/MODIFY THIS LINE)*****\n",
        "    ############################################################################\n",
        "    #                           END OF YOUR CODE                               #\n",
        "    ############################################################################\n",
        "    return optimizer\n",
        "\n",
        "training_part3(model_init_fn, optimizer_init_fn)"
      ],
      "metadata": {
        "id": "UK7b2VHREahx",
        "colab": {
          "base_uri": "https://localhost:8080/"
        },
        "outputId": "1a0cdad7-9a97-48d8-efa8-ea20bcfa4617"
      },
      "execution_count": null,
      "outputs": [
        {
          "output_type": "stream",
          "name": "stdout",
          "text": [
            "32\n",
            "Iteration 0, Epoch 1, Loss: 3.5040, Accuracy: 15.6250, Val Loss: 3.3345, Val Accuracy: 12.2000\n",
            "Iteration 100, Epoch 1, Loss: 2.0733, Accuracy: 28.0322, Val Loss: 1.8483, Val Accuracy: 35.1000\n",
            "Iteration 200, Epoch 1, Loss: 1.9268, Accuracy: 32.7348, Val Loss: 1.7309, Val Accuracy: 40.8000\n",
            "Iteration 300, Epoch 1, Loss: 1.8534, Accuracy: 35.2990, Val Loss: 1.6822, Val Accuracy: 42.6000\n",
            "Iteration 400, Epoch 1, Loss: 1.7897, Accuracy: 37.5000, Val Loss: 1.6263, Val Accuracy: 43.6000\n",
            "Iteration 500, Epoch 1, Loss: 1.7455, Accuracy: 39.0032, Val Loss: 1.5820, Val Accuracy: 45.6000\n",
            "Iteration 600, Epoch 1, Loss: 1.7158, Accuracy: 40.0764, Val Loss: 1.5523, Val Accuracy: 46.9000\n",
            "Iteration 700, Epoch 1, Loss: 1.6887, Accuracy: 41.0552, Val Loss: 1.5228, Val Accuracy: 48.8000\n"
          ]
        }
      ]
    },
    {
      "cell_type": "markdown",
      "source": [
        "We will also train this model with the built-in training loop APIs provided by TensorFlow."
      ],
      "metadata": {
        "id": "t1UtU9vFEdzF"
      }
    },
    {
      "cell_type": "code",
      "source": [
        "model = model_init_fn()\n",
        "model.compile(optimizer='sgd',\n",
        "              loss='sparse_categorical_crossentropy',\n",
        "              metrics=[tf.keras.metrics.sparse_categorical_accuracy])\n",
        "model.fit(X_train, y_train, batch_size=64, epochs=1, validation_data=(X_val, y_val))\n",
        "model.evaluate(X_test, y_test)"
      ],
      "metadata": {
        "id": "OpK0E6MtEhz-",
        "colab": {
          "base_uri": "https://localhost:8080/"
        },
        "outputId": "b5e6444a-65d2-499d-f3b6-911f0fcd8771"
      },
      "execution_count": null,
      "outputs": [
        {
          "output_type": "stream",
          "name": "stdout",
          "text": [
            "32\n",
            "766/766 [==============================] - 70s 91ms/step - loss: 1.6042 - sparse_categorical_accuracy: 0.4459 - val_loss: 1.4213 - val_sparse_categorical_accuracy: 0.5060\n",
            "313/313 [==============================] - 5s 15ms/step - loss: 1.4195 - sparse_categorical_accuracy: 0.4852\n"
          ]
        },
        {
          "output_type": "execute_result",
          "data": {
            "text/plain": [
              "[1.419479250907898, 0.4851999878883362]"
            ]
          },
          "metadata": {},
          "execution_count": 26
        }
      ]
    },
    {
      "cell_type": "markdown",
      "source": [
        "### Part V: BONUS POINT - CIFAR-10 open-ended challenge\n",
        "In this section you can experiment with whatever ConvNet architecture you'd like on CIFAR-10.\n",
        "\n",
        "You should experiment with architectures, hyperparameters, loss functions, regularization, or anything else you can think of to train a model that achieves at least 70% accuracy on the validation set within 10 epochs. You can use the built-in train function, the training_part3 function from above, or implement your own training loop.\n",
        "\n",
        "Describe what you did at the end of the notebook.\n",
        "\n",
        "Some things you can try:\n",
        "Filter size: Above we used 5x5 and 3x3; is this optimal?\n",
        "Number of filters: Above we used 16 and 32 filters. Would more or fewer do better?\n",
        "Pooling: We didn't use any pooling above. Would this improve the model?\n",
        "Normalization: Would your model be improved with batch normalization, layer normalization, group normalization, or some other normalization strategy?\n",
        "Network architecture: The ConvNet above has only three layers of trainable parameters. Would a deeper model do better?\n",
        "Global average pooling: Instead of flattening after the final convolutional layer, would global average pooling do better? This strategy is used for example in Google's Inception network and in Residual Networks.\n",
        "Regularization: Would some kind of regularization improve performance? Maybe weight decay or dropout?\n",
        "NOTE: Batch Normalization / Dropout\n",
        "If you are using Batch Normalization and Dropout, remember to pass is_training=True if you use the training_part3() function. BatchNorm and Dropout layers have different behaviors at training and inference time. training is a specific keyword argument reserved for this purpose in any tf.keras.Model's call() function. Read more about this here : https://www.tensorflow.org/versions/r2.0/api_docs/python/tf/keras/layers/BatchNormalization#methods https://www.tensorflow.org/versions/r2.0/api_docs/python/tf/keras/layers/Dropout#methods\n",
        "\n",
        "Tips for training\n",
        "For each network architecture that you try, you should tune the learning rate and other hyperparameters. When doing this there are a couple important things to keep in mind:\n",
        "\n",
        "If the parameters are working well, you should see improvement within a few hundred iterations\n",
        "Remember the coarse-to-fine approach for hyperparameter tuning: start by testing a large range of hyperparameters for just a few training iterations to find the combinations of parameters that are working at all.\n",
        "Once you have found some sets of parameters that seem to work, search more finely around these parameters. You may need to train for more epochs.\n",
        "You should use the validation set for hyperparameter search, and save your test set for evaluating your architecture on the best parameters as selected by the validation set.\n",
        "Going above and beyond\n",
        "If you are feeling adventurous there are many other features you can implement to try and improve your performance. You are not required to implement any of these, but don't miss the fun if you have time!\n",
        "\n",
        "Alternative optimizers: you can try Adam, Adagrad, RMSprop, etc.\n",
        "Alternative activation functions such as leaky ReLU, parametric ReLU, ELU, or MaxOut.\n",
        "Model ensembles\n",
        "Data augmentation\n",
        "New Architectures\n",
        "ResNets where the input from the previous layer is added to the output.\n",
        "DenseNets where inputs into previous layers are concatenated together.\n",
        "Have fun and happy training!"
      ],
      "metadata": {
        "id": "m5EgkF87E_ci"
      }
    },
    {
      "cell_type": "markdown",
      "source": [
        "I tried different optimizer, add batch normmalization and various learning rates. I was able to achieve above 65% accuracy but not more than that."
      ],
      "metadata": {
        "id": "_l6V72ct2NbI"
      }
    },
    {
      "cell_type": "code",
      "source": [
        "def model_init_fn():\n",
        "    initializer = tf.initializers.VarianceScaling(scale=2.0)\n",
        "    print(channel_1)\n",
        "    model = tf.keras.Sequential([\n",
        "        tf.keras.layers.Conv2D(channel_1, kernel_size=7, strides=1, padding=\"same\",\n",
        "                                     use_bias=True, kernel_initializer=initializer,\n",
        "                                     activation='relu', bias_initializer='zeros'),\n",
        "        tf.keras.layers.Conv2D(channel_2, kernel_size=7, strides=1, padding='same',\n",
        "                                     use_bias=True, kernel_initializer=initializer,\n",
        "                                     activation='relu', bias_initializer='zeros'),\n",
        "        tf.keras.layers.Flatten(),\n",
        "        tf.keras.layers.Dense(num_classes, activation='softmax', kernel_initializer=initializer),\n",
        "    ])\n",
        "    return model\n",
        "\n",
        "learning_rate = 5e-4\n",
        "\n",
        "def optimizer_init_fn():\n",
        "    optimizer = tf.keras.optimizers.SGD(learning_rate,\n",
        "                                        momentum = 0.9,\n",
        "                                        nesterov=True)\n",
        "    return optimizer\n",
        "\n",
        "training_part3(model_init_fn, optimizer_init_fn)"
      ],
      "metadata": {
        "id": "IB7m9B_LJ7OX",
        "colab": {
          "base_uri": "https://localhost:8080/"
        },
        "outputId": "0868dbfc-f6cd-4e03-c798-5480976875c2"
      },
      "execution_count": null,
      "outputs": [
        {
          "output_type": "stream",
          "name": "stdout",
          "text": [
            "32\n",
            "Iteration 0, Epoch 1, Loss: 3.1637, Accuracy: 7.8125, Val Loss: 2.8502, Val Accuracy: 8.7000\n",
            "Iteration 100, Epoch 1, Loss: 1.9830, Accuracy: 29.3626, Val Loss: 1.7867, Val Accuracy: 36.6000\n",
            "Iteration 200, Epoch 1, Loss: 1.8585, Accuracy: 33.8930, Val Loss: 1.6480, Val Accuracy: 41.3000\n",
            "Iteration 300, Epoch 1, Loss: 1.7900, Accuracy: 36.5397, Val Loss: 1.6138, Val Accuracy: 43.7000\n",
            "Iteration 400, Epoch 1, Loss: 1.7303, Accuracy: 38.7079, Val Loss: 1.5474, Val Accuracy: 44.9000\n",
            "Iteration 500, Epoch 1, Loss: 1.6871, Accuracy: 40.1198, Val Loss: 1.4887, Val Accuracy: 46.2000\n",
            "Iteration 600, Epoch 1, Loss: 1.6596, Accuracy: 41.1632, Val Loss: 1.4466, Val Accuracy: 49.4000\n",
            "Iteration 700, Epoch 1, Loss: 1.6327, Accuracy: 42.2053, Val Loss: 1.4362, Val Accuracy: 49.8000\n"
          ]
        }
      ]
    },
    {
      "cell_type": "code",
      "source": [
        "def model_init_fn():\n",
        "    initializer = tf.initializers.VarianceScaling(scale=2.0)\n",
        "    print(channel_1)\n",
        "    model = tf.keras.Sequential([\n",
        "        tf.keras.layers.Conv2D(32, kernel_size=7, strides=1, padding=\"same\",\n",
        "                                     use_bias=True, kernel_initializer=initializer,\n",
        "                                     activation='relu', bias_initializer='zeros'),\n",
        "        tf.keras.layers.MaxPooling2D(pool_size=(2, 2)),\n",
        "        tf.keras.layers.Conv2D(64, kernel_size=7, strides=1, padding='same',\n",
        "                                     use_bias=True, kernel_initializer=initializer,\n",
        "                                     activation='relu', bias_initializer='zeros'),\n",
        "        tf.keras.layers.MaxPooling2D(pool_size=(2, 2)),\n",
        "        tf.keras.layers.Flatten(),\n",
        "        tf.keras.layers.Dense(num_classes, activation='softmax', kernel_initializer=initializer),\n",
        "    ])\n",
        "    return model\n",
        "\n",
        "learning_rate = 5e-4\n",
        "\n",
        "def optimizer_init_fn():\n",
        "    optimizer = tf.keras.optimizers.Adam(learning_rate=learning_rate)\n",
        "    return optimizer\n",
        "\n",
        "training_part3(model_init_fn, optimizer_init_fn,is_training= True)"
      ],
      "metadata": {
        "colab": {
          "base_uri": "https://localhost:8080/"
        },
        "id": "-9MP36MpG6K9",
        "outputId": "9c4c24fe-9c5f-433f-f38e-a28706e588ce"
      },
      "execution_count": null,
      "outputs": [
        {
          "output_type": "stream",
          "name": "stdout",
          "text": [
            "32\n",
            "Iteration 0, Epoch 1, Loss: 4.7113, Accuracy: 6.2500, Val Loss: 3.0255, Val Accuracy: 12.9000\n",
            "Iteration 100, Epoch 1, Loss: 1.9634, Accuracy: 33.1993, Val Loss: 1.6481, Val Accuracy: 42.9000\n",
            "Iteration 200, Epoch 1, Loss: 1.7865, Accuracy: 38.1841, Val Loss: 1.5085, Val Accuracy: 47.6000\n",
            "Iteration 300, Epoch 1, Loss: 1.6882, Accuracy: 41.2531, Val Loss: 1.4411, Val Accuracy: 48.5000\n",
            "Iteration 400, Epoch 1, Loss: 1.6132, Accuracy: 43.5825, Val Loss: 1.3571, Val Accuracy: 51.8000\n",
            "Iteration 500, Epoch 1, Loss: 1.5582, Accuracy: 45.3156, Val Loss: 1.2916, Val Accuracy: 53.3000\n",
            "Iteration 600, Epoch 1, Loss: 1.5206, Accuracy: 46.6020, Val Loss: 1.2421, Val Accuracy: 57.7000\n",
            "Iteration 700, Epoch 1, Loss: 1.4869, Accuracy: 47.7755, Val Loss: 1.2191, Val Accuracy: 57.5000\n"
          ]
        }
      ]
    },
    {
      "cell_type": "code",
      "source": [
        "def model_init_fn():\n",
        "    initializer = tf.initializers.VarianceScaling(scale=2.0)\n",
        "    model = tf.keras.Sequential([\n",
        "        tf.keras.layers.Conv2D(32, kernel_size=7, strides=1, padding=\"valid\",\n",
        "                                     use_bias=True, kernel_initializer=initializer,\n",
        "                                     activation='relu', bias_initializer='zeros'),\n",
        "        tf.keras.layers.BatchNormalization(),\n",
        "        tf.keras.layers.MaxPooling2D(pool_size=(2, 2)),\n",
        "        tf.keras.layers.Conv2D(64, kernel_size=7, strides=2, padding='valid',\n",
        "                                     use_bias=True, kernel_initializer=initializer,\n",
        "                                     activation='relu', bias_initializer='zeros'),\n",
        "        tf.keras.layers.BatchNormalization(),\n",
        "        tf.keras.layers.MaxPooling2D(pool_size=(2, 2)),\n",
        "        tf.keras.layers.Flatten(),\n",
        "        tf.keras.layers.Dense(num_classes, activation='softmax', kernel_initializer=initializer),\n",
        "    ])\n",
        "    return model\n",
        "\n",
        "learning_rate = 5e-4\n",
        "\n",
        "def optimizer_init_fn():\n",
        "    optimizer = tf.keras.optimizers.Adam(learning_rate=learning_rate)\n",
        "    return optimizer\n",
        "\n",
        "training_part3(model_init_fn, optimizer_init_fn,num_epochs=10,is_training= True)"
      ],
      "metadata": {
        "colab": {
          "base_uri": "https://localhost:8080/"
        },
        "id": "y-3nsEfMbfsb",
        "outputId": "ea34435f-da33-4b48-d471-233c1a070541"
      },
      "execution_count": null,
      "outputs": [
        {
          "output_type": "stream",
          "name": "stdout",
          "text": [
            "Iteration 0, Epoch 1, Loss: 3.8387, Accuracy: 9.3750, Val Loss: 3.6904, Val Accuracy: 12.4000\n",
            "Iteration 100, Epoch 1, Loss: 1.9857, Accuracy: 32.3639, Val Loss: 1.8902, Val Accuracy: 36.3000\n",
            "Iteration 200, Epoch 1, Loss: 1.8183, Accuracy: 36.9792, Val Loss: 1.5914, Val Accuracy: 45.9000\n",
            "Iteration 300, Epoch 1, Loss: 1.7259, Accuracy: 39.9502, Val Loss: 1.5126, Val Accuracy: 47.2000\n",
            "Iteration 400, Epoch 1, Loss: 1.6589, Accuracy: 41.9693, Val Loss: 1.4497, Val Accuracy: 49.4000\n",
            "Iteration 500, Epoch 1, Loss: 1.6083, Accuracy: 43.6564, Val Loss: 1.4027, Val Accuracy: 51.4000\n",
            "Iteration 600, Epoch 1, Loss: 1.5739, Accuracy: 44.7353, Val Loss: 1.3716, Val Accuracy: 52.4000\n",
            "Iteration 700, Epoch 1, Loss: 1.5426, Accuracy: 45.8385, Val Loss: 1.3085, Val Accuracy: 54.5000\n",
            "Iteration 800, Epoch 2, Loss: 1.2034, Accuracy: 58.2589, Val Loss: 1.2630, Val Accuracy: 55.5000\n",
            "Iteration 900, Epoch 2, Loss: 1.2078, Accuracy: 57.6852, Val Loss: 1.3115, Val Accuracy: 54.1000\n",
            "Iteration 1000, Epoch 2, Loss: 1.2183, Accuracy: 57.6396, Val Loss: 1.2646, Val Accuracy: 56.0000\n",
            "Iteration 1100, Epoch 2, Loss: 1.2064, Accuracy: 57.8078, Val Loss: 1.2109, Val Accuracy: 59.2000\n",
            "Iteration 1200, Epoch 2, Loss: 1.1924, Accuracy: 58.3908, Val Loss: 1.2064, Val Accuracy: 58.9000\n",
            "Iteration 1300, Epoch 2, Loss: 1.1845, Accuracy: 58.7033, Val Loss: 1.1815, Val Accuracy: 59.0000\n",
            "Iteration 1400, Epoch 2, Loss: 1.1753, Accuracy: 59.0256, Val Loss: 1.1753, Val Accuracy: 58.4000\n",
            "Iteration 1500, Epoch 2, Loss: 1.1672, Accuracy: 59.3304, Val Loss: 1.1588, Val Accuracy: 59.2000\n",
            "Iteration 1600, Epoch 3, Loss: 1.0305, Accuracy: 63.5870, Val Loss: 1.1602, Val Accuracy: 60.3000\n",
            "Iteration 1700, Epoch 3, Loss: 1.0491, Accuracy: 63.1749, Val Loss: 1.1896, Val Accuracy: 58.2000\n",
            "Iteration 1800, Epoch 3, Loss: 1.0517, Accuracy: 63.3655, Val Loss: 1.1844, Val Accuracy: 59.2000\n",
            "Iteration 1900, Epoch 3, Loss: 1.0437, Accuracy: 63.7195, Val Loss: 1.1434, Val Accuracy: 62.5000\n",
            "Iteration 2000, Epoch 3, Loss: 1.0339, Accuracy: 63.9692, Val Loss: 1.1029, Val Accuracy: 62.1000\n",
            "Iteration 2100, Epoch 3, Loss: 1.0311, Accuracy: 64.2135, Val Loss: 1.1267, Val Accuracy: 62.3000\n",
            "Iteration 2200, Epoch 3, Loss: 1.0265, Accuracy: 64.3615, Val Loss: 1.1246, Val Accuracy: 62.5000\n",
            "Iteration 2300, Epoch 4, Loss: 0.9422, Accuracy: 67.7083, Val Loss: 1.1048, Val Accuracy: 61.4000\n",
            "Iteration 2400, Epoch 4, Loss: 0.9289, Accuracy: 67.0510, Val Loss: 1.1135, Val Accuracy: 61.4000\n",
            "Iteration 2500, Epoch 4, Loss: 0.9468, Accuracy: 66.8719, Val Loss: 1.0888, Val Accuracy: 63.4000\n",
            "Iteration 2600, Epoch 4, Loss: 0.9388, Accuracy: 67.3989, Val Loss: 1.1308, Val Accuracy: 60.8000\n",
            "Iteration 2700, Epoch 4, Loss: 0.9349, Accuracy: 67.5171, Val Loss: 1.1100, Val Accuracy: 62.7000\n",
            "Iteration 2800, Epoch 4, Loss: 0.9278, Accuracy: 67.8150, Val Loss: 1.0928, Val Accuracy: 63.6000\n",
            "Iteration 2900, Epoch 4, Loss: 0.9267, Accuracy: 67.9260, Val Loss: 1.1051, Val Accuracy: 61.6000\n",
            "Iteration 3000, Epoch 4, Loss: 0.9253, Accuracy: 67.9187, Val Loss: 1.0728, Val Accuracy: 63.4000\n",
            "Iteration 3100, Epoch 5, Loss: 0.8378, Accuracy: 71.1993, Val Loss: 1.0976, Val Accuracy: 62.3000\n",
            "Iteration 3200, Epoch 5, Loss: 0.8546, Accuracy: 70.3125, Val Loss: 1.1338, Val Accuracy: 61.4000\n",
            "Iteration 3300, Epoch 5, Loss: 0.8672, Accuracy: 70.1213, Val Loss: 1.1025, Val Accuracy: 62.9000\n",
            "Iteration 3400, Epoch 5, Loss: 0.8586, Accuracy: 70.5814, Val Loss: 1.0780, Val Accuracy: 63.5000\n",
            "Iteration 3500, Epoch 5, Loss: 0.8541, Accuracy: 70.6808, Val Loss: 1.0665, Val Accuracy: 66.5000\n",
            "Iteration 3600, Epoch 5, Loss: 0.8505, Accuracy: 70.8071, Val Loss: 1.0807, Val Accuracy: 63.1000\n",
            "Iteration 3700, Epoch 5, Loss: 0.8478, Accuracy: 70.8840, Val Loss: 1.1100, Val Accuracy: 63.1000\n",
            "Iteration 3800, Epoch 5, Loss: 0.8453, Accuracy: 70.9634, Val Loss: 1.0309, Val Accuracy: 65.6000\n",
            "Iteration 3900, Epoch 6, Loss: 0.7796, Accuracy: 72.8873, Val Loss: 1.0560, Val Accuracy: 65.2000\n",
            "Iteration 4000, Epoch 6, Loss: 0.7971, Accuracy: 72.5146, Val Loss: 1.0972, Val Accuracy: 63.6000\n",
            "Iteration 4100, Epoch 6, Loss: 0.7979, Accuracy: 72.8033, Val Loss: 1.0976, Val Accuracy: 63.3000\n",
            "Iteration 4200, Epoch 6, Loss: 0.7925, Accuracy: 72.9995, Val Loss: 1.0696, Val Accuracy: 63.9000\n",
            "Iteration 4300, Epoch 6, Loss: 0.7868, Accuracy: 73.1721, Val Loss: 1.0841, Val Accuracy: 63.9000\n",
            "Iteration 4400, Epoch 6, Loss: 0.7861, Accuracy: 73.2843, Val Loss: 1.0915, Val Accuracy: 62.5000\n",
            "Iteration 4500, Epoch 6, Loss: 0.7844, Accuracy: 73.3001, Val Loss: 1.0810, Val Accuracy: 64.6000\n",
            "Iteration 4600, Epoch 7, Loss: 0.7023, Accuracy: 75.3125, Val Loss: 1.0611, Val Accuracy: 63.9000\n",
            "Iteration 4700, Epoch 7, Loss: 0.7237, Accuracy: 74.9256, Val Loss: 1.0818, Val Accuracy: 64.1000\n",
            "Iteration 4800, Epoch 7, Loss: 0.7435, Accuracy: 74.6875, Val Loss: 1.0350, Val Accuracy: 65.9000\n",
            "Iteration 4900, Epoch 7, Loss: 0.7353, Accuracy: 75.1896, Val Loss: 1.1031, Val Accuracy: 64.8000\n",
            "Iteration 5000, Epoch 7, Loss: 0.7331, Accuracy: 75.1389, Val Loss: 1.0888, Val Accuracy: 63.3000\n",
            "Iteration 5100, Epoch 7, Loss: 0.7280, Accuracy: 75.2816, Val Loss: 1.0839, Val Accuracy: 64.4000\n",
            "Iteration 5200, Epoch 7, Loss: 0.7275, Accuracy: 75.2428, Val Loss: 1.0744, Val Accuracy: 63.8000\n",
            "Iteration 5300, Epoch 7, Loss: 0.7254, Accuracy: 75.2992, Val Loss: 1.0451, Val Accuracy: 66.0000\n",
            "Iteration 5400, Epoch 8, Loss: 0.6603, Accuracy: 78.1250, Val Loss: 1.1161, Val Accuracy: 64.3000\n",
            "Iteration 5500, Epoch 8, Loss: 0.6736, Accuracy: 77.0571, Val Loss: 1.1310, Val Accuracy: 62.7000\n",
            "Iteration 5600, Epoch 8, Loss: 0.6863, Accuracy: 76.7129, Val Loss: 1.1064, Val Accuracy: 63.3000\n",
            "Iteration 5700, Epoch 8, Loss: 0.6803, Accuracy: 76.9451, Val Loss: 1.1018, Val Accuracy: 65.1000\n",
            "Iteration 5800, Epoch 8, Loss: 0.6770, Accuracy: 77.0394, Val Loss: 1.0928, Val Accuracy: 66.3000\n",
            "Iteration 5900, Epoch 8, Loss: 0.6744, Accuracy: 77.1858, Val Loss: 1.0943, Val Accuracy: 64.1000\n",
            "Iteration 6000, Epoch 8, Loss: 0.6730, Accuracy: 77.1860, Val Loss: 1.1269, Val Accuracy: 63.4000\n",
            "Iteration 6100, Epoch 8, Loss: 0.6701, Accuracy: 77.2856, Val Loss: 1.0464, Val Accuracy: 65.6000\n",
            "Iteration 6200, Epoch 9, Loss: 0.6106, Accuracy: 79.9229, Val Loss: 1.0839, Val Accuracy: 64.5000\n",
            "Iteration 6300, Epoch 9, Loss: 0.6317, Accuracy: 78.7572, Val Loss: 1.1567, Val Accuracy: 63.5000\n",
            "Iteration 6400, Epoch 9, Loss: 0.6345, Accuracy: 78.8061, Val Loss: 1.1146, Val Accuracy: 64.5000\n",
            "Iteration 6500, Epoch 9, Loss: 0.6294, Accuracy: 78.8790, Val Loss: 1.1002, Val Accuracy: 66.0000\n",
            "Iteration 6600, Epoch 9, Loss: 0.6252, Accuracy: 79.0731, Val Loss: 1.1178, Val Accuracy: 64.7000\n",
            "Iteration 6700, Epoch 9, Loss: 0.6246, Accuracy: 79.1230, Val Loss: 1.1155, Val Accuracy: 63.1000\n",
            "Iteration 6800, Epoch 9, Loss: 0.6245, Accuracy: 79.0397, Val Loss: 1.1123, Val Accuracy: 64.9000\n",
            "Iteration 6900, Epoch 10, Loss: 0.5774, Accuracy: 79.6875, Val Loss: 1.0840, Val Accuracy: 65.9000\n",
            "Iteration 7000, Epoch 10, Loss: 0.5633, Accuracy: 80.8265, Val Loss: 1.1142, Val Accuracy: 64.0000\n",
            "Iteration 7100, Epoch 10, Loss: 0.5893, Accuracy: 80.0649, Val Loss: 1.1027, Val Accuracy: 65.8000\n",
            "Iteration 7200, Epoch 10, Loss: 0.5854, Accuracy: 80.4509, Val Loss: 1.1436, Val Accuracy: 64.1000\n",
            "Iteration 7300, Epoch 10, Loss: 0.5836, Accuracy: 80.4284, Val Loss: 1.1464, Val Accuracy: 63.7000\n",
            "Iteration 7400, Epoch 10, Loss: 0.5796, Accuracy: 80.5473, Val Loss: 1.1399, Val Accuracy: 63.3000\n",
            "Iteration 7500, Epoch 10, Loss: 0.5790, Accuracy: 80.5936, Val Loss: 1.1124, Val Accuracy: 64.9000\n",
            "Iteration 7600, Epoch 10, Loss: 0.5773, Accuracy: 80.6599, Val Loss: 1.0925, Val Accuracy: 65.7000\n"
          ]
        }
      ]
    },
    {
      "cell_type": "code",
      "source": [
        "def model_init_fn():\n",
        "    initializer = tf.initializers.VarianceScaling(scale=2.0)\n",
        "    model = tf.keras.Sequential([\n",
        "        tf.keras.layers.Conv2D(32, kernel_size=9, strides=1, padding=\"valid\",\n",
        "                                     use_bias=False, kernel_initializer=initializer,\n",
        "                                     activation='relu'),\n",
        "        tf.keras.layers.BatchNormalization(),\n",
        "        tf.keras.layers.MaxPooling2D(pool_size=(2, 2)),\n",
        "        tf.keras.layers.Conv2D(64, kernel_size=9, strides=2, padding='valid',\n",
        "                                     use_bias=False, kernel_initializer=initializer,\n",
        "                                     activation='relu'),\n",
        "        tf.keras.layers.BatchNormalization(),\n",
        "        tf.keras.layers.MaxPooling2D(pool_size=(2, 2)),\n",
        "        tf.keras.layers.Flatten(),\n",
        "        tf.keras.layers.Dropout(0.2),\n",
        "        tf.keras.layers.Dense(num_classes, activation='softmax', kernel_initializer=initializer),\n",
        "\n",
        "    ])\n",
        "    return model\n",
        "\n",
        "def optimizer_init_fn():\n",
        "    optimizer = tf.keras.optimizers.SGD(0.005,\n",
        "                                        momentum = 0.9,\n",
        "                                        nesterov=True)\n",
        "    return optimizer\n",
        "\n",
        "training_part3(model_init_fn, optimizer_init_fn,num_epochs=10,is_training= True)"
      ],
      "metadata": {
        "colab": {
          "base_uri": "https://localhost:8080/"
        },
        "id": "v_tnnh9jmi-P",
        "outputId": "f362fd3c-af18-4d8e-e331-cba81e66f8b4"
      },
      "execution_count": null,
      "outputs": [
        {
          "output_type": "stream",
          "name": "stderr",
          "text": [
            "/usr/local/lib/python3.10/dist-packages/keras/src/initializers/initializers.py:120: UserWarning: The initializer VarianceScaling is unseeded and being called multiple times, which will return identical values each time (even if the initializer is unseeded). Please update your code to provide a seed to the initializer, or avoid using the same initializer instance more than once.\n",
            "  warnings.warn(\n"
          ]
        },
        {
          "output_type": "stream",
          "name": "stdout",
          "text": [
            "Iteration 0, Epoch 1, Loss: 4.0949, Accuracy: 10.9375, Val Loss: 6.0784, Val Accuracy: 10.8000\n",
            "Iteration 100, Epoch 1, Loss: 2.0721, Accuracy: 31.2964, Val Loss: 1.8695, Val Accuracy: 36.6000\n",
            "Iteration 200, Epoch 1, Loss: 1.8999, Accuracy: 35.0047, Val Loss: 1.5272, Val Accuracy: 46.5000\n",
            "Iteration 300, Epoch 1, Loss: 1.7973, Accuracy: 37.8634, Val Loss: 1.4349, Val Accuracy: 50.5000\n",
            "Iteration 400, Epoch 1, Loss: 1.7245, Accuracy: 39.9431, Val Loss: 1.3816, Val Accuracy: 51.5000\n",
            "Iteration 500, Epoch 1, Loss: 1.6724, Accuracy: 41.4951, Val Loss: 1.3515, Val Accuracy: 53.5000\n",
            "Iteration 600, Epoch 1, Loss: 1.6377, Accuracy: 42.6035, Val Loss: 1.3142, Val Accuracy: 54.5000\n",
            "Iteration 700, Epoch 1, Loss: 1.6074, Accuracy: 43.6831, Val Loss: 1.2827, Val Accuracy: 55.1000\n",
            "Iteration 800, Epoch 2, Loss: 1.3124, Accuracy: 54.7321, Val Loss: 1.2458, Val Accuracy: 56.3000\n",
            "Iteration 900, Epoch 2, Loss: 1.3104, Accuracy: 53.3565, Val Loss: 1.2659, Val Accuracy: 56.8000\n",
            "Iteration 1000, Epoch 2, Loss: 1.3173, Accuracy: 53.2447, Val Loss: 1.2472, Val Accuracy: 57.1000\n",
            "Iteration 1100, Epoch 2, Loss: 1.3056, Accuracy: 53.6567, Val Loss: 1.2052, Val Accuracy: 57.4000\n",
            "Iteration 1200, Epoch 2, Loss: 1.2890, Accuracy: 54.2313, Val Loss: 1.2046, Val Accuracy: 57.7000\n",
            "Iteration 1300, Epoch 2, Loss: 1.2824, Accuracy: 54.4801, Val Loss: 1.2022, Val Accuracy: 58.2000\n",
            "Iteration 1400, Epoch 2, Loss: 1.2789, Accuracy: 54.6112, Val Loss: 1.2029, Val Accuracy: 58.2000\n",
            "Iteration 1500, Epoch 2, Loss: 1.2714, Accuracy: 55.0000, Val Loss: 1.1840, Val Accuracy: 58.4000\n",
            "Iteration 1600, Epoch 3, Loss: 1.1655, Accuracy: 58.1748, Val Loss: 1.1908, Val Accuracy: 58.0000\n",
            "Iteration 1700, Epoch 3, Loss: 1.1813, Accuracy: 57.5536, Val Loss: 1.1314, Val Accuracy: 61.5000\n",
            "Iteration 1800, Epoch 3, Loss: 1.1839, Accuracy: 57.6324, Val Loss: 1.1521, Val Accuracy: 60.4000\n",
            "Iteration 1900, Epoch 3, Loss: 1.1741, Accuracy: 58.1089, Val Loss: 1.1209, Val Accuracy: 60.0000\n",
            "Iteration 2000, Epoch 3, Loss: 1.1643, Accuracy: 58.4855, Val Loss: 1.1267, Val Accuracy: 59.9000\n",
            "Iteration 2100, Epoch 3, Loss: 1.1635, Accuracy: 58.5347, Val Loss: 1.1178, Val Accuracy: 59.7000\n",
            "Iteration 2200, Epoch 3, Loss: 1.1618, Accuracy: 58.6043, Val Loss: 1.1023, Val Accuracy: 59.8000\n",
            "Iteration 2300, Epoch 4, Loss: 1.1511, Accuracy: 57.8125, Val Loss: 1.0880, Val Accuracy: 62.5000\n",
            "Iteration 2400, Epoch 4, Loss: 1.0955, Accuracy: 60.7858, Val Loss: 1.1005, Val Accuracy: 61.1000\n",
            "Iteration 2500, Epoch 4, Loss: 1.1034, Accuracy: 60.8528, Val Loss: 1.0758, Val Accuracy: 62.1000\n",
            "Iteration 2600, Epoch 4, Loss: 1.0999, Accuracy: 61.0974, Val Loss: 1.1163, Val Accuracy: 60.8000\n",
            "Iteration 2700, Epoch 4, Loss: 1.0929, Accuracy: 61.2787, Val Loss: 1.0530, Val Accuracy: 63.0000\n",
            "Iteration 2800, Epoch 4, Loss: 1.0856, Accuracy: 61.6023, Val Loss: 1.0904, Val Accuracy: 62.1000\n",
            "Iteration 2900, Epoch 4, Loss: 1.0901, Accuracy: 61.4143, Val Loss: 1.0749, Val Accuracy: 61.8000\n",
            "Iteration 3000, Epoch 4, Loss: 1.0879, Accuracy: 61.4798, Val Loss: 1.1297, Val Accuracy: 60.7000\n",
            "Iteration 3100, Epoch 5, Loss: 1.0205, Accuracy: 64.5270, Val Loss: 1.0655, Val Accuracy: 62.5000\n",
            "Iteration 3200, Epoch 5, Loss: 1.0326, Accuracy: 63.4010, Val Loss: 1.0695, Val Accuracy: 62.0000\n",
            "Iteration 3300, Epoch 5, Loss: 1.0437, Accuracy: 63.4032, Val Loss: 1.0754, Val Accuracy: 62.7000\n",
            "Iteration 3400, Epoch 5, Loss: 1.0352, Accuracy: 63.5339, Val Loss: 1.0740, Val Accuracy: 61.0000\n",
            "Iteration 3500, Epoch 5, Loss: 1.0287, Accuracy: 63.7836, Val Loss: 1.0756, Val Accuracy: 62.6000\n",
            "Iteration 3600, Epoch 5, Loss: 1.0267, Accuracy: 63.8181, Val Loss: 1.0456, Val Accuracy: 63.4000\n",
            "Iteration 3700, Epoch 5, Loss: 1.0285, Accuracy: 63.7706, Val Loss: 1.0659, Val Accuracy: 62.3000\n",
            "Iteration 3800, Epoch 5, Loss: 1.0252, Accuracy: 63.8781, Val Loss: 1.0776, Val Accuracy: 62.6000\n",
            "Iteration 3900, Epoch 6, Loss: 0.9815, Accuracy: 64.9868, Val Loss: 1.0347, Val Accuracy: 64.3000\n",
            "Iteration 4000, Epoch 6, Loss: 0.9877, Accuracy: 64.8757, Val Loss: 1.0628, Val Accuracy: 63.1000\n",
            "Iteration 4100, Epoch 6, Loss: 0.9880, Accuracy: 64.9504, Val Loss: 1.0494, Val Accuracy: 63.0000\n",
            "Iteration 4200, Epoch 6, Loss: 0.9845, Accuracy: 65.0185, Val Loss: 1.0329, Val Accuracy: 64.1000\n",
            "Iteration 4300, Epoch 6, Loss: 0.9782, Accuracy: 65.2402, Val Loss: 1.0399, Val Accuracy: 63.3000\n",
            "Iteration 4400, Epoch 6, Loss: 0.9794, Accuracy: 65.1324, Val Loss: 1.0323, Val Accuracy: 64.5000\n",
            "Iteration 4500, Epoch 6, Loss: 0.9814, Accuracy: 65.1430, Val Loss: 1.0275, Val Accuracy: 63.5000\n",
            "Iteration 4600, Epoch 7, Loss: 0.8802, Accuracy: 69.6875, Val Loss: 1.0164, Val Accuracy: 63.9000\n",
            "Iteration 4700, Epoch 7, Loss: 0.9310, Accuracy: 66.8452, Val Loss: 1.0501, Val Accuracy: 64.3000\n",
            "Iteration 4800, Epoch 7, Loss: 0.9420, Accuracy: 66.7607, Val Loss: 1.0263, Val Accuracy: 64.3000\n",
            "Iteration 4900, Epoch 7, Loss: 0.9401, Accuracy: 66.8443, Val Loss: 1.0673, Val Accuracy: 63.7000\n",
            "Iteration 5000, Epoch 7, Loss: 0.9408, Accuracy: 66.8403, Val Loss: 1.0246, Val Accuracy: 64.9000\n",
            "Iteration 5100, Epoch 7, Loss: 0.9371, Accuracy: 67.0050, Val Loss: 1.0540, Val Accuracy: 63.6000\n",
            "Iteration 5200, Epoch 7, Loss: 0.9441, Accuracy: 66.6761, Val Loss: 1.0106, Val Accuracy: 65.0000\n",
            "Iteration 5300, Epoch 7, Loss: 0.9435, Accuracy: 66.8240, Val Loss: 1.0340, Val Accuracy: 63.6000\n",
            "Iteration 5400, Epoch 8, Loss: 0.8930, Accuracy: 69.1106, Val Loss: 1.0064, Val Accuracy: 65.2000\n",
            "Iteration 5500, Epoch 8, Loss: 0.8935, Accuracy: 68.5139, Val Loss: 1.0160, Val Accuracy: 65.1000\n",
            "Iteration 5600, Epoch 8, Loss: 0.9070, Accuracy: 68.0635, Val Loss: 1.0954, Val Accuracy: 62.7000\n",
            "Iteration 5700, Epoch 8, Loss: 0.9030, Accuracy: 68.0771, Val Loss: 1.0291, Val Accuracy: 64.2000\n",
            "Iteration 5800, Epoch 8, Loss: 0.9038, Accuracy: 68.1841, Val Loss: 1.0108, Val Accuracy: 66.2000\n",
            "Iteration 5900, Epoch 8, Loss: 0.9040, Accuracy: 68.1644, Val Loss: 1.0175, Val Accuracy: 66.1000\n",
            "Iteration 6000, Epoch 8, Loss: 0.9063, Accuracy: 67.9895, Val Loss: 1.0059, Val Accuracy: 65.7000\n",
            "Iteration 6100, Epoch 8, Loss: 0.9051, Accuracy: 67.9994, Val Loss: 1.0015, Val Accuracy: 65.9000\n",
            "Iteration 6200, Epoch 9, Loss: 0.8730, Accuracy: 69.0497, Val Loss: 0.9963, Val Accuracy: 64.9000\n",
            "Iteration 6300, Epoch 9, Loss: 0.8858, Accuracy: 68.5694, Val Loss: 1.0055, Val Accuracy: 65.5000\n",
            "Iteration 6400, Epoch 9, Loss: 0.8780, Accuracy: 69.1964, Val Loss: 1.0377, Val Accuracy: 64.7000\n",
            "Iteration 6500, Epoch 9, Loss: 0.8763, Accuracy: 69.2024, Val Loss: 1.0634, Val Accuracy: 63.1000\n",
            "Iteration 6600, Epoch 9, Loss: 0.8723, Accuracy: 69.3314, Val Loss: 1.0162, Val Accuracy: 65.8000\n",
            "Iteration 6700, Epoch 9, Loss: 0.8748, Accuracy: 69.1072, Val Loss: 1.0308, Val Accuracy: 65.1000\n",
            "Iteration 6800, Epoch 9, Loss: 0.8772, Accuracy: 69.0031, Val Loss: 1.0163, Val Accuracy: 64.4000\n",
            "Iteration 6900, Epoch 10, Loss: 0.7917, Accuracy: 72.9911, Val Loss: 1.0294, Val Accuracy: 66.3000\n",
            "Iteration 7000, Epoch 10, Loss: 0.8435, Accuracy: 69.8160, Val Loss: 1.0357, Val Accuracy: 64.6000\n",
            "Iteration 7100, Epoch 10, Loss: 0.8530, Accuracy: 69.8294, Val Loss: 1.0401, Val Accuracy: 64.7000\n",
            "Iteration 7200, Epoch 10, Loss: 0.8476, Accuracy: 70.1445, Val Loss: 1.0649, Val Accuracy: 63.9000\n",
            "Iteration 7300, Epoch 10, Loss: 0.8446, Accuracy: 70.2664, Val Loss: 1.0313, Val Accuracy: 64.7000\n",
            "Iteration 7400, Epoch 10, Loss: 0.8405, Accuracy: 70.5221, Val Loss: 1.0213, Val Accuracy: 65.5000\n",
            "Iteration 7500, Epoch 10, Loss: 0.8479, Accuracy: 70.1194, Val Loss: 1.0564, Val Accuracy: 63.7000\n",
            "Iteration 7600, Epoch 10, Loss: 0.8476, Accuracy: 70.0186, Val Loss: 1.0266, Val Accuracy: 65.7000\n"
          ]
        }
      ]
    }
  ]
}